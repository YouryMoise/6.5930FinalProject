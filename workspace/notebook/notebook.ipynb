{
 "cells": [
  {
   "cell_type": "markdown",
   "id": "e7fbc13b-fa37-40a1-9202-eb228c61cc3f",
   "metadata": {},
   "source": [
    "# LoopTree Tutorial\n",
    "\n",
    "LoopTree is a model to evaluate the latency and energy of a fused-layer dataflow accelerator.\n",
    "\n",
    "To model energy and latency, a workload, architecture, and mapping have to be specified. First, we discuss how these are specified. Then, we show how to run the LoopTree model."
   ]
  },
  {
   "cell_type": "markdown",
   "id": "2de3ab36-56ff-471e-8c8a-9a70ac85ee97",
   "metadata": {},
   "source": [
    "## Specifying Architecture, Workload, and Mapping\n",
    "\n",
    "For the LoopTree model to estimate energy and latency, the user must specify an architecture, workload, and mapping. Below, we discuss how to specify each of these inputs.\n",
    "\n",
    "### Architecture\n",
    "In LoopTree, the architecture of an accelerator is abstracted as buffers that use the Buffet semantics and computation units, following the [Timeloop v4 specification](https://timeloop.csail.mit.edu/v4).\n",
    "\n",
    "An example architecture that we will use here is displayed below."
   ]
  },
  {
   "cell_type": "code",
   "execution_count": 3,
   "id": "fc6e2cf7-29eb-443d-885a-8c0262ca5edd",
   "metadata": {},
   "outputs": [
    {
     "name": "stdout",
     "output_type": "stream",
     "text": [
      "architecture:\n",
      "  version: 0.4\n",
      "  nodes:\n",
      "    - !Container\n",
      "      name: system_arch\n",
      "      attributes:\n",
      "        # Top-level attributes inherited by all components unless overridden\n",
      "        technology: \"45nm\"\n",
      "        global_cycle_seconds: 1e-9\n",
      "        datawidth: 16\n",
      "\n",
      "    - !Component\n",
      "      name: DRAM # offchip DRAM is the source of all datatypes\n",
      "      class: DRAM # assume DRAM is large enough to store all the data, so no depth specification needed\n",
      "      attributes:\n",
      "        width: 64 # width in bits\n",
      "        datawidth: datawidth\n",
      "\n",
      "    - !Container\n",
      "      name: chip\n",
      "\n",
      "    - !Container\n",
      "      name: NNengine\n",
      "      spatial: { meshX: 16, meshY: 16 }\n",
      "\n",
      "    - !Component\n",
      "      name: global_buffer\n",
      "      class: SRAM\n",
      "      attributes:\n",
      "        width: 128\n",
      "        depth: 2048\n",
      "        datawidth: datawidth\n",
      "        n_banks: 1\n",
      "        n_rdwr_ports: 2\n",
      "\n",
      "    - !Container\n",
      "      name: PE\n",
      "      spatial: { meshX: 8, meshY: 8 }\n",
      "\n",
      "    - !Component\n",
      "      name: scratchpad\n",
      "      class: SRAM # definitions of the compound classes can be found under \"components\" folder\n",
      "      attributes: { depth: 128, width: 16, datawidth: datawidth }\n",
      "\n",
      "    # registers for the mac unit\n",
      "    - !Component\n",
      "      name: weight_reg\n",
      "      class: regfile\n",
      "      attributes: { depth: 1, width: 16, datawidth: datawidth }\n",
      "\n",
      "    - !Component\n",
      "      name: input_activation_reg\n",
      "      class: regfile\n",
      "      attributes: { depth: 1, width: 16, datawidth: datawidth }\n",
      "\n",
      "    - !Component\n",
      "      name: output_activation_reg\n",
      "      class: regfile\n",
      "      attributes: { depth: 1, width: 16, datawidth: datawidth }\n",
      "\n",
      "    - !Component\n",
      "      name: mac\n",
      "      class: intmac\n",
      "      attributes: { num_pipline_stages: 2, datawidth: datawidth }\n",
      "\n",
      "\n"
     ]
    }
   ],
   "source": [
    "from util import *\n",
    "from pprint import pp\n",
    "show_config('architecture.yaml')"
   ]
  },
  {
   "cell_type": "markdown",
   "id": "cf9392be-34e6-4d8e-9d96-9e5b3c0bc0c2",
   "metadata": {},
   "source": [
    "### Workloads\n",
    "\n",
    "DNN workloads in LoopTree are abstracted as a set of Einsums, each representing a layer.\n",
    "\n",
    "Each Einsum is specified as a dictionary. Each Einsum reads/writes to a number of tensors (referred to as `data_spaces` in the specification), and each tensor is either an input to the operation or an output (indicated by a key \"read_write\" with value `True`). Moreover, a \"projection\" from the Einsum to each tensor, which describes the index of the element in the data that an operation in the Einsum accesses, must be specified. Finally, we specify must specify the *shape* of the Einsum, which is the bounds of its dimensions (also referred to as \"ranks\").\n",
    "\n",
    "An example comprising two fully-connected layers are shown below."
   ]
  },
  {
   "cell_type": "code",
   "execution_count": 4,
   "id": "5ab4d488-7b82-4a9d-8f15-1d3debe11aaf",
   "metadata": {},
   "outputs": [],
   "source": [
    "# show_config('two_fc.workload.yaml')"
   ]
  },
  {
   "cell_type": "markdown",
   "id": "e45ea13d-6158-44a4-867c-530c52a1cd6a",
   "metadata": {},
   "source": [
    "In this workload specification, we specify two Einsums Fc1 and Fc2. Each Einsum has three dimensions. Fc1 has dimensions P1, M1, and C1; Fc2 has dimensions P2, M2, and C2. Finally, we specify the shape of the Einsums as bounds for each Einsum dimension (rank)."
   ]
  },
  {
   "cell_type": "markdown",
   "id": "cdb0c8b9-59e2-4bb4-a6af-83f617b43c69",
   "metadata": {},
   "source": [
    "### Mapping\n",
    "\n",
    "The LoopTree mapping is a tree-structure that contains nodes of the types described below.\n",
    "- **Loops**: a loop node specifies a rank in the Einsum that is partitioned and the shape of the tiles that results from the partitioning. If the loop is a \"temporal\" loop, then the tiles are scheduled to be processed one at a time. If the loop is a \"spatial\" loop, then the tiles are scheduled to parallel hardware units.\n",
    "- **Branching point**: nodes above a branching point (*i.e.*, ancestor nodes) describe inter-Einsum mapping, which is applied to all Einsums under that branching point. Nodes underneath the branching point (*i.e.*, within each branch) pertain only to the Einsum of that branch.\n",
    "- **Storage**: a storage node specifies the tiles of tensors to retain and which hardware level retains the tiles.\n",
    "- **Compute**: a compute node specifies the hardware level used to compute operations of an Einsum. This node has to be a leaf node, and it also denotes the Einsum that a particular branch pertains to.\n",
    "\n",
    "First, we discuss a layer-by-layer mapping example."
   ]
  },
  {
   "cell_type": "code",
   "execution_count": 5,
   "id": "3bd28a74-5330-4624-a414-e5ca545984ac",
   "metadata": {},
   "outputs": [],
   "source": [
    "# show_config('layer-by-layer.mapping.yaml')"
   ]
  },
  {
   "cell_type": "markdown",
   "id": "2146686f-b807-491b-af7c-82bfe83bcf53",
   "metadata": {},
   "source": [
    "Explanation:\n",
    "- (1.a) The storage node specifies that the tensors specified by the `dspace` key will be retained in target 0, which we will bind to MainMemory.\n",
    "        Note that MainMemory retains Fmap2.\n",
    "- (1.b) The sequential node specifies that the following branches (one for Fc1 and one for Fc2, as we will see shortly) are processed sequentially.\n",
    "- (1.c) Filter1 is retained in GlobalBuffer\n",
    "- (1.d) The rank P1 (which is a rank of the Fc1 Einsum) is partitioned into tiles with shape 1 and we will iterate over the tiles one at a time (temporal iteration).\n",
    "- (1.e) Tiles of Fmap1 and Fmap2 are retained in GlobalBuffer. We retain tiles becuase the P1 rank has been partitioned.\n",
    "- (1.f) Operations of Fc1 are processed in the MACC unit. Moreover, this node specifies that this branch is relevant to Fc2.\n",
    "- (1.g) This and the following nodes specify how Fc2 is mapped."
   ]
  },
  {
   "cell_type": "code",
   "execution_count": 6,
   "id": "b3eaa59e-8b83-49ef-8f36-755135d6d5c6",
   "metadata": {},
   "outputs": [],
   "source": [
    "# show_config('fused.mapping.yaml')"
   ]
  },
  {
   "cell_type": "markdown",
   "id": "f213bff1-447f-4a80-922c-cef4c638d2eb",
   "metadata": {},
   "source": [
    "Explanation:\n",
    "- (2.a) Similar to (1.a), but note that Fmap2 is no longer retained in MainMemory.\n",
    "- (2.b) In this mapping, the $P2$ rank is partitioned to create tiles that are rows of feature maps Fmap1, Fmap2, and Fmap3. The tile shape attribute of the loop node implies that the tiles of Fmap3 have shape 1 in the $P2$ rank. LoopTree infers the shape of the tiles of Fmap2 and Fmap1 based on what is required as inputs to compute the specified tile of Fmap3. In this case, tiles that each contains one row of Fmap2 is required to compute tiles of Fmap3, and tiles that each contains one row of Fmap1 is required to compute tiles of Fmap2 in turn.\n",
    "- (2.c) The tiles of Fmap1, Fmap2, and Fmap3 are retained in GlobalBuffer.\n",
    "- (2.d) Similar to before, Fc1 and Fc2 are processed sequentially. However, as we have put node (2.b) above this sequential node, *tiles* of Fc1 and Fc2 are processed sequentially in alternating fashion: a tile of Fc1 produces a tile of Fmap2, the tile of Fmap2 is consumed by a tile of Fc2, another tile of Fc1 is produced, and so on."
   ]
  },
  {
   "cell_type": "markdown",
   "id": "edc558a8-360c-42ab-a62b-80edd1745924",
   "metadata": {},
   "source": [
    "## Running the Model\n",
    "\n",
    "Running with the four matrix multiplications in a row"
   ]
  },
  {
   "cell_type": "code",
   "execution_count": 14,
   "id": "87522bd4-a683-46ae-884f-b35f01a557e3",
   "metadata": {},
   "outputs": [
    {
     "ename": "KeyError",
     "evalue": "'width'",
     "output_type": "error",
     "traceback": [
      "\u001b[0;31m---------------------------------------------------------------------------\u001b[0m",
      "\u001b[0;31mKeyError\u001b[0m                                  Traceback (most recent call last)",
      "Cell \u001b[0;32mIn[14], line 11\u001b[0m\n\u001b[1;32m      3\u001b[0m \u001b[38;5;66;03m# As previously mentioned, bindings map levels specified in the mapping\u001b[39;00m\n\u001b[1;32m      4\u001b[0m \u001b[38;5;66;03m# to the hardware units specified in the architecture spec.\u001b[39;00m\n\u001b[1;32m      5\u001b[0m bindings \u001b[38;5;241m=\u001b[39m {\n\u001b[1;32m      6\u001b[0m     \u001b[38;5;241m0\u001b[39m: \u001b[38;5;124m'\u001b[39m\u001b[38;5;124mDRAM\u001b[39m\u001b[38;5;124m'\u001b[39m,\n\u001b[1;32m      7\u001b[0m     \u001b[38;5;241m1\u001b[39m: \u001b[38;5;124m'\u001b[39m\u001b[38;5;124mglobal_buffer\u001b[39m\u001b[38;5;124m'\u001b[39m,\n\u001b[1;32m      8\u001b[0m     \u001b[38;5;241m2\u001b[39m: \u001b[38;5;124m'\u001b[39m\u001b[38;5;124mmac\u001b[39m\u001b[38;5;124m'\u001b[39m\n\u001b[1;32m      9\u001b[0m }\n\u001b[0;32m---> 11\u001b[0m stats \u001b[38;5;241m=\u001b[39m \u001b[43mrun_looptree\u001b[49m\u001b[43m(\u001b[49m\n\u001b[1;32m     12\u001b[0m \u001b[43m    \u001b[49m\u001b[43mCONFIG_DIR\u001b[49m\u001b[43m,\u001b[49m\n\u001b[1;32m     13\u001b[0m \u001b[43m    \u001b[49m\u001b[38;5;66;43;03m# ['architecture.yaml', 'two_fc.workload.yaml', 'layer-by-layer.mapping.yaml'],\u001b[39;49;00m\n\u001b[1;32m     14\u001b[0m \u001b[43m    \u001b[49m\u001b[43m[\u001b[49m\u001b[38;5;124;43m'\u001b[39;49m\u001b[38;5;124;43marchitecture.yaml\u001b[39;49m\u001b[38;5;124;43m'\u001b[39;49m\u001b[43m,\u001b[49m\u001b[43m \u001b[49m\u001b[38;5;124;43m'\u001b[39;49m\u001b[38;5;124;43mmatrix_multiplication_workload.yaml\u001b[39;49m\u001b[38;5;124;43m'\u001b[39;49m\u001b[43m,\u001b[49m\u001b[38;5;124;43m'\u001b[39;49m\u001b[38;5;124;43mmatrix_mapping.yaml\u001b[39;49m\u001b[38;5;124;43m'\u001b[39;49m\u001b[43m]\u001b[49m\u001b[43m,\u001b[49m\n\u001b[1;32m     15\u001b[0m \u001b[43m    \u001b[49m\u001b[43mTMP_DIR\u001b[49m\u001b[43m,\u001b[49m\n\u001b[1;32m     16\u001b[0m \u001b[43m    \u001b[49m\u001b[43mbindings\u001b[49m\u001b[43m,\u001b[49m\n\u001b[1;32m     17\u001b[0m \u001b[43m    \u001b[49m\u001b[43mcall_accelergy\u001b[49m\u001b[38;5;241;43m=\u001b[39;49m\u001b[38;5;28;43;01mTrue\u001b[39;49;00m\n\u001b[1;32m     18\u001b[0m \u001b[43m)\u001b[49m\n",
      "File \u001b[0;32m/usr/local/lib/python3.10/dist-packages/pytimeloop/looptree/run.py:53\u001b[0m, in \u001b[0;36mrun_looptree\u001b[0;34m(config_dir, paths, tmp_path, bindings, call_accelergy)\u001b[0m\n\u001b[1;32m     50\u001b[0m actions \u001b[38;5;241m=\u001b[39m gather_actions(result, spec\u001b[38;5;241m.\u001b[39mmapping, workload, bindings)\n\u001b[1;32m     51\u001b[0m energy \u001b[38;5;241m=\u001b[39m compute_energy_from_actions(actions, spec\u001b[38;5;241m.\u001b[39mERT)\n\u001b[0;32m---> 53\u001b[0m latency, comp_latency, mem_latency \u001b[38;5;241m=\u001b[39m \u001b[43mget_latency\u001b[49m\u001b[43m(\u001b[49m\u001b[43mresult\u001b[49m\u001b[43m,\u001b[49m\n\u001b[1;32m     54\u001b[0m \u001b[43m                                                 \u001b[49m\u001b[43mspec\u001b[49m\u001b[38;5;241;43m.\u001b[39;49m\u001b[43mmapping\u001b[49m\u001b[43m,\u001b[49m\n\u001b[1;32m     55\u001b[0m \u001b[43m                                                 \u001b[49m\u001b[43mworkload\u001b[49m\u001b[43m,\u001b[49m\n\u001b[1;32m     56\u001b[0m \u001b[43m                                                 \u001b[49m\u001b[43mspec\u001b[49m\u001b[38;5;241;43m.\u001b[39;49m\u001b[43marchitecture\u001b[49m\u001b[43m,\u001b[49m\n\u001b[1;32m     57\u001b[0m \u001b[43m                                                 \u001b[49m\u001b[43mbindings\u001b[49m\u001b[43m)\u001b[49m\n\u001b[1;32m     59\u001b[0m capacity_usage \u001b[38;5;241m=\u001b[39m compute_capacity_usage(spec\u001b[38;5;241m.\u001b[39mmapping\u001b[38;5;241m.\u001b[39mnodes,\n\u001b[1;32m     60\u001b[0m                                         result\u001b[38;5;241m.\u001b[39moccupancy,\n\u001b[1;32m     61\u001b[0m                                         workload)\n\u001b[1;32m     62\u001b[0m component_capacity_usage \u001b[38;5;241m=\u001b[39m {}\n",
      "File \u001b[0;32m/usr/local/lib/python3.10/dist-packages/pytimeloop/looptree/latency/latency.py:22\u001b[0m, in \u001b[0;36mget_latency\u001b[0;34m(looptree_results, mapping, workload, arch, bindings)\u001b[0m\n\u001b[1;32m     14\u001b[0m \u001b[38;5;28;01mdef\u001b[39;00m\u001b[38;5;250m \u001b[39m\u001b[38;5;21mget_latency\u001b[39m(looptree_results: LooptreeOutput,\n\u001b[1;32m     15\u001b[0m                 mapping,\n\u001b[1;32m     16\u001b[0m                 workload,\n\u001b[1;32m     17\u001b[0m                 arch,\n\u001b[1;32m     18\u001b[0m                 bindings):\n\u001b[1;32m     19\u001b[0m     comp_latency \u001b[38;5;241m=\u001b[39m compute_latency(mapping,\n\u001b[1;32m     20\u001b[0m                                    looptree_results\u001b[38;5;241m.\u001b[39mtemporal_steps,\n\u001b[1;32m     21\u001b[0m                                    workload)\n\u001b[0;32m---> 22\u001b[0m     mem_latency \u001b[38;5;241m=\u001b[39m \u001b[43mmemory_latency\u001b[49m\u001b[43m(\u001b[49m\u001b[43mlooptree_results\u001b[49m\u001b[43m,\u001b[49m\n\u001b[1;32m     23\u001b[0m \u001b[43m                                 \u001b[49m\u001b[43march\u001b[49m\u001b[43m,\u001b[49m\n\u001b[1;32m     24\u001b[0m \u001b[43m                                 \u001b[49m\u001b[43mmapping\u001b[49m\u001b[43m,\u001b[49m\n\u001b[1;32m     25\u001b[0m \u001b[43m                                 \u001b[49m\u001b[43mworkload\u001b[49m\u001b[43m,\u001b[49m\n\u001b[1;32m     26\u001b[0m \u001b[43m                                 \u001b[49m\u001b[43mbindings\u001b[49m\u001b[43m)\u001b[49m\n\u001b[1;32m     27\u001b[0m     overall_latency \u001b[38;5;241m=\u001b[39m \u001b[38;5;28mmax\u001b[39m(comp_latency, \u001b[38;5;28mmax\u001b[39m(mem_latency\u001b[38;5;241m.\u001b[39mvalues()))\n\u001b[1;32m     28\u001b[0m     \u001b[38;5;28;01mreturn\u001b[39;00m overall_latency, comp_latency, mem_latency\n",
      "File \u001b[0;32m/usr/local/lib/python3.10/dist-packages/pytimeloop/looptree/latency/latency.py:73\u001b[0m, in \u001b[0;36mmemory_latency\u001b[0;34m(looptree_results, arch, mapping, workload, bindings)\u001b[0m\n\u001b[1;32m     70\u001b[0m         component_to_read_writes[component][\u001b[38;5;241m1\u001b[39m] \u001b[38;5;241m+\u001b[39m\u001b[38;5;241m=\u001b[39m write_count\n\u001b[1;32m     72\u001b[0m component_latency \u001b[38;5;241m=\u001b[39m {}\n\u001b[0;32m---> 73\u001b[0m bandwidths \u001b[38;5;241m=\u001b[39m \u001b[43mget_bandwidth\u001b[49m\u001b[43m(\u001b[49m\u001b[43march\u001b[49m\u001b[43m)\u001b[49m\n\u001b[1;32m     74\u001b[0m \u001b[38;5;28;01mfor\u001b[39;00m component, (reads, writes) \u001b[38;5;129;01min\u001b[39;00m component_to_read_writes\u001b[38;5;241m.\u001b[39mitems():\n\u001b[1;32m     75\u001b[0m     read_bw, write_bw, shared_bw \u001b[38;5;241m=\u001b[39m bandwidths[component]\n",
      "File \u001b[0;32m/usr/local/lib/python3.10/dist-packages/pytimeloop/looptree/latency/latency.py:113\u001b[0m, in \u001b[0;36mget_bandwidth\u001b[0;34m(arch)\u001b[0m\n\u001b[1;32m    110\u001b[0m \u001b[38;5;28;01mif\u001b[39;00m n_rd_ports \u001b[38;5;241m+\u001b[39m n_wr_ports \u001b[38;5;241m+\u001b[39m n_rdwr_ports \u001b[38;5;241m<\u001b[39m \u001b[38;5;241m1\u001b[39m:\n\u001b[1;32m    111\u001b[0m     n_rdwr_ports \u001b[38;5;241m=\u001b[39m \u001b[38;5;241m1\u001b[39m\n\u001b[0;32m--> 113\u001b[0m width \u001b[38;5;241m=\u001b[39m \u001b[43mattributes\u001b[49m\u001b[43m[\u001b[49m\u001b[38;5;124;43m'\u001b[39;49m\u001b[38;5;124;43mwidth\u001b[39;49m\u001b[38;5;124;43m'\u001b[39;49m\u001b[43m]\u001b[49m\n\u001b[1;32m    114\u001b[0m datawidth \u001b[38;5;241m=\u001b[39m attributes[\u001b[38;5;124m'\u001b[39m\u001b[38;5;124mdatawidth\u001b[39m\u001b[38;5;124m'\u001b[39m]\n\u001b[1;32m    115\u001b[0m width_in_words \u001b[38;5;241m=\u001b[39m width\u001b[38;5;241m/\u001b[39mdatawidth\n",
      "File \u001b[0;32m/usr/local/lib/python3.10/dist-packages/pytimeloop/timeloopfe/common/nodes.py:1385\u001b[0m, in \u001b[0;36mDictNode.__getitem__\u001b[0;34m(self, _DictNode__key)\u001b[0m\n\u001b[1;32m   1383\u001b[0m \u001b[38;5;28;01mdef\u001b[39;00m\u001b[38;5;250m \u001b[39m\u001b[38;5;21m__getitem__\u001b[39m(\u001b[38;5;28mself\u001b[39m, __key: Any) \u001b[38;5;241m-\u001b[39m\u001b[38;5;241m>\u001b[39m Any:\n\u001b[1;32m   1384\u001b[0m     \u001b[38;5;28mself\u001b[39m\u001b[38;5;241m.\u001b[39m_check_alias(__key)\n\u001b[0;32m-> 1385\u001b[0m     \u001b[38;5;28;01mreturn\u001b[39;00m \u001b[38;5;28;43msuper\u001b[39;49m\u001b[43m(\u001b[49m\u001b[43m)\u001b[49m\u001b[38;5;241;43m.\u001b[39;49m\u001b[38;5;21;43m__getitem__\u001b[39;49m\u001b[43m(\u001b[49m\u001b[43m__key\u001b[49m\u001b[43m)\u001b[49m\n",
      "File \u001b[0;32m/usr/local/lib/python3.10/dist-packages/pytimeloop/timeloopfe/common/nodes.py:1049\u001b[0m, in \u001b[0;36mNode.__getitem__\u001b[0;34m(self, key)\u001b[0m\n\u001b[1;32m   1047\u001b[0m \u001b[38;5;250m\u001b[39m\u001b[38;5;124;03m\"\"\"Get the value at the given key or index.\"\"\"\u001b[39;00m\n\u001b[1;32m   1048\u001b[0m \u001b[38;5;66;03m# pylint: disable=no-member\u001b[39;00m\n\u001b[0;32m-> 1049\u001b[0m \u001b[38;5;28;01mreturn\u001b[39;00m \u001b[38;5;28;43msuper\u001b[39;49m\u001b[43m(\u001b[49m\u001b[43m)\u001b[49m\u001b[38;5;241;43m.\u001b[39;49m\u001b[38;5;21;43m__getitem__\u001b[39;49m\u001b[43m(\u001b[49m\u001b[43mkey\u001b[49m\u001b[43m)\u001b[49m\n",
      "\u001b[0;31mKeyError\u001b[0m: 'width'"
     ]
    }
   ],
   "source": [
    "from pytimeloop.looptree.run import run_looptree\n",
    "\n",
    "# As previously mentioned, bindings map levels specified in the mapping\n",
    "# to the hardware units specified in the architecture spec.\n",
    "bindings = {\n",
    "    0: 'DRAM',\n",
    "    1: 'global_buffer',\n",
    "    2: 'mac'\n",
    "}\n",
    "\n",
    "stats = run_looptree(\n",
    "    CONFIG_DIR,\n",
    "    # ['architecture.yaml', 'two_fc.workload.yaml', 'layer-by-layer.mapping.yaml'],\n",
    "    ['architecture.yaml', 'matrix_multiplication_workload.yaml','matrix_mapping.yaml'],\n",
    "    TMP_DIR,\n",
    "    bindings,\n",
    "    call_accelergy=True\n",
    ")"
   ]
  },
  {
   "cell_type": "markdown",
   "id": "10cf9e3f-e58a-4167-a1d7-499ec6fab091",
   "metadata": {},
   "source": [
    "The result returned by the model contains several information, such as latency:"
   ]
  },
  {
   "cell_type": "code",
   "execution_count": 16,
   "id": "7b6f2040-068f-4505-95aa-cf183f9632a5",
   "metadata": {},
   "outputs": [
    {
     "name": "stdout",
     "output_type": "stream",
     "text": [
      "Latency: 8388608\n"
     ]
    }
   ],
   "source": [
    "print('Latency:', stats.latency)"
   ]
  },
  {
   "cell_type": "markdown",
   "id": "6e95b0b1-e942-4362-ab76-818742ac2a78",
   "metadata": {},
   "source": [
    "and also energy, which is computed by calculating the number of actions to each hardware component and multiplying that with the energy per action estimated using the Accelergy tool:"
   ]
  },
  {
   "cell_type": "code",
   "execution_count": 50,
   "id": "4427d1fc-aedf-4ee6-8030-5809a2c92596",
   "metadata": {},
   "outputs": [
    {
     "name": "stdout",
     "output_type": "stream",
     "text": [
      "Energy:\n",
      "{('MainMemory', 'read'): 167772160.0,\n",
      " ('GlobalBuffer', 'read'): 3054177943.552,\n",
      " ('GlobalBuffer', 'write'): 974974713.8560001,\n",
      " ('MainMemory', 'write'): 67108864.0,\n",
      " ('MACC', 'compute'): 7088373.76}\n"
     ]
    }
   ],
   "source": [
    "print('Energy:')\n",
    "pp(stats.energy)"
   ]
  },
  {
   "cell_type": "code",
   "execution_count": 32,
   "id": "542ed82e-22e9-4f4a-a55e-34fa80f9d4eb",
   "metadata": {},
   "outputs": [],
   "source": [
    "### with CONV files\n",
    "from util import *\n",
    "from pprint import pp\n",
    "from pytimeloop.looptree.run import run_looptree\n",
    "\n",
    "# As previously mentioned, bindings map levels specified in the mapping\n",
    "# to the hardware units specified in the architecture spec.\n",
    "bindings = {\n",
    "    0: 'MainMemory',\n",
    "    1: 'GlobalBuffer',\n",
    "    2: 'MACC'\n",
    "}\n",
    "\n",
    "stats = run_looptree(\n",
    "    CONFIG_DIR,\n",
    "    # ['architecture.yaml', 'two_fc.workload.yaml', 'layer-by-layer.mapping.yaml'],\n",
    "    ['architecture.yaml', 'conv_workload.yaml','conv_mapping.yaml'],\n",
    "    TMP_DIR,\n",
    "    bindings,\n",
    "    call_accelergy=True\n",
    ")"
   ]
  },
  {
   "cell_type": "code",
   "execution_count": 26,
   "id": "a68d8dfd-73be-41d7-a0aa-0bb0e9c91b4a",
   "metadata": {},
   "outputs": [
    {
     "name": "stdout",
     "output_type": "stream",
     "text": [
      "Latency: 824633720832\n",
      "Energy:\n",
      "{('MainMemory', 'read'): 153815089152.0,\n",
      " ('GlobalBuffer', 'read'): 301021771705221.1,\n",
      " ('GlobalBuffer', 'write'): 94925635273677.31,\n",
      " ('MainMemory', 'write'): 805306368.0,\n",
      " ('MACC', 'compute'): 696815494103.04}\n"
     ]
    }
   ],
   "source": [
    "print('Latency:', stats.latency)\n",
    "print('Energy:')\n",
    "pp(stats.energy)"
   ]
  },
  {
   "cell_type": "markdown",
   "id": "61cbe63c-494f-48fc-b341-317ebb2123d0",
   "metadata": {},
   "source": [
    "Now, we compare these results with the fused mapping:"
   ]
  },
  {
   "cell_type": "code",
   "execution_count": 1,
   "id": "6e339a0d-e596-4145-aa2a-4a77faf7aebf",
   "metadata": {},
   "outputs": [
    {
     "ename": "NameError",
     "evalue": "name 'CONFIG_DIR' is not defined",
     "output_type": "error",
     "traceback": [
      "\u001b[0;31m---------------------------------------------------------------------------\u001b[0m",
      "\u001b[0;31mNameError\u001b[0m                                 Traceback (most recent call last)",
      "Cell \u001b[0;32mIn[1], line 12\u001b[0m\n\u001b[1;32m      3\u001b[0m \u001b[38;5;66;03m# As previously mentioned, bindings map levels specified in the mapping\u001b[39;00m\n\u001b[1;32m      4\u001b[0m \u001b[38;5;66;03m# to the hardware units specified in the architecture spec.\u001b[39;00m\n\u001b[1;32m      5\u001b[0m bindings \u001b[38;5;241m=\u001b[39m {\n\u001b[1;32m      6\u001b[0m     \u001b[38;5;241m0\u001b[39m: \u001b[38;5;124m'\u001b[39m\u001b[38;5;124mMainMemory\u001b[39m\u001b[38;5;124m'\u001b[39m,\n\u001b[1;32m      7\u001b[0m     \u001b[38;5;241m1\u001b[39m: \u001b[38;5;124m'\u001b[39m\u001b[38;5;124mGlobalBuffer\u001b[39m\u001b[38;5;124m'\u001b[39m,\n\u001b[1;32m      8\u001b[0m     \u001b[38;5;241m2\u001b[39m: \u001b[38;5;124m'\u001b[39m\u001b[38;5;124mMACC\u001b[39m\u001b[38;5;124m'\u001b[39m\n\u001b[1;32m      9\u001b[0m }\n\u001b[1;32m     11\u001b[0m stats \u001b[38;5;241m=\u001b[39m run_looptree(\n\u001b[0;32m---> 12\u001b[0m     \u001b[43mCONFIG_DIR\u001b[49m,\n\u001b[1;32m     13\u001b[0m     [\u001b[38;5;124m'\u001b[39m\u001b[38;5;124marchitecture.yaml\u001b[39m\u001b[38;5;124m'\u001b[39m, \u001b[38;5;124m'\u001b[39m\u001b[38;5;124mtwo_fc.workload.yaml\u001b[39m\u001b[38;5;124m'\u001b[39m, \u001b[38;5;124m'\u001b[39m\u001b[38;5;124mfused.mapping.yaml\u001b[39m\u001b[38;5;124m'\u001b[39m],\n\u001b[1;32m     14\u001b[0m     TMP_DIR,\n\u001b[1;32m     15\u001b[0m     bindings,\n\u001b[1;32m     16\u001b[0m     call_accelergy\u001b[38;5;241m=\u001b[39m\u001b[38;5;28;01mTrue\u001b[39;00m\n\u001b[1;32m     17\u001b[0m )\n\u001b[1;32m     18\u001b[0m \u001b[38;5;28mprint\u001b[39m(\u001b[38;5;124m'\u001b[39m\u001b[38;5;124mLatency:\u001b[39m\u001b[38;5;124m'\u001b[39m, stats\u001b[38;5;241m.\u001b[39mlatency)\n\u001b[1;32m     19\u001b[0m \u001b[38;5;28mprint\u001b[39m(\u001b[38;5;124m'\u001b[39m\u001b[38;5;124mEnergy:\u001b[39m\u001b[38;5;124m'\u001b[39m)\n",
      "\u001b[0;31mNameError\u001b[0m: name 'CONFIG_DIR' is not defined"
     ]
    }
   ],
   "source": [
    "from pytimeloop.looptree.run import run_looptree\n",
    "\n",
    "# As previously mentioned, bindings map levels specified in the mapping\n",
    "# to the hardware units specified in the architecture spec.\n",
    "bindings = {\n",
    "    0: 'MainMemory',\n",
    "    1: 'GlobalBuffer',\n",
    "    2: 'MACC'\n",
    "}\n",
    "\n",
    "stats = run_looptree(\n",
    "    CONFIG_DIR,\n",
    "    ['architecture.yaml', 'two_fc.workload.yaml', 'fused.mapping.yaml'],\n",
    "    TMP_DIR,\n",
    "    bindings,\n",
    "    call_accelergy=True\n",
    ")\n",
    "print('Latency:', stats.latency)\n",
    "print('Energy:')\n",
    "pp(stats.energy)"
   ]
  },
  {
   "cell_type": "markdown",
   "id": "e55e41bc-8a1e-4f57-a95f-c8bdd275731d",
   "metadata": {},
   "source": [
    "As we can see, the energy consumption due to MainMemory reads and writes have decreased significantly from fusion.\n",
    "\n",
    "Here, we have not modeled the impact of limited MainMemory bandwidth; thus, because the MACC unit utilization is the same (100%) in both cases, the latency is the same. However, if the layer-by-layer latency is limited by MainMemory bandwidth, fusion will also decrease latency."
   ]
  },
  {
   "cell_type": "code",
   "execution_count": 19,
   "id": "574293da-bca2-4383-820a-438468a50572",
   "metadata": {},
   "outputs": [
    {
     "name": "stdout",
     "output_type": "stream",
     "text": [
      "Latency: 528384\n",
      "Energy:\n",
      "{('MainMemory', 'read'): 50331648.0,\n",
      " ('GlobalBuffer', 'read'): 382769037.31200004,\n",
      " ('GlobalBuffer', 'write'): 123521941.50400001,\n",
      " ('MainMemory', 'write'): 16777216.0,\n",
      " ('MACC', 'compute'): 886046.72}\n"
     ]
    }
   ],
   "source": [
    "from pytimeloop.looptree.run import run_looptree\n",
    "\n",
    "# As previously mentioned, bindings map levels specified in the mapping\n",
    "# to the hardware units specified in the architecture spec.\n",
    "bindings = {\n",
    "    0: 'MainMemory',\n",
    "    1: 'GlobalBuffer',\n",
    "    2: 'MACC'\n",
    "}\n",
    "\n",
    "stats = run_looptree(\n",
    "    CONFIG_DIR,\n",
    "    ['architecture.yaml', 'two_fc.workload.yaml', 'fused-pipeline.mapping.yaml'],\n",
    "    TMP_DIR,\n",
    "    bindings,\n",
    "    call_accelergy=True\n",
    ")\n",
    "print('Latency:', stats.latency)\n",
    "print('Energy:')\n",
    "pp(stats.energy)"
   ]
  }
 ],
 "metadata": {
  "kernelspec": {
   "display_name": "Python 3 (ipykernel)",
   "language": "python",
   "name": "python3"
  },
  "language_info": {
   "codemirror_mode": {
    "name": "ipython",
    "version": 3
   },
   "file_extension": ".py",
   "mimetype": "text/x-python",
   "name": "python",
   "nbconvert_exporter": "python",
   "pygments_lexer": "ipython3",
   "version": "3.10.12"
  }
 },
 "nbformat": 4,
 "nbformat_minor": 5
}
