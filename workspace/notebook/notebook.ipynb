{
 "cells": [
  {
   "cell_type": "markdown",
   "id": "e7fbc13b-fa37-40a1-9202-eb228c61cc3f",
   "metadata": {},
   "source": [
    "# LoopTree Tutorial\n",
    "\n",
    "LoopTree is a model to evaluate the latency and energy of a fused-layer dataflow accelerator.\n",
    "\n",
    "To model energy and latency, a workload, architecture, and mapping have to be specified. First, we discuss how these are specified. Then, we show how to run the LoopTree model."
   ]
  },
  {
   "cell_type": "markdown",
   "id": "2de3ab36-56ff-471e-8c8a-9a70ac85ee97",
   "metadata": {},
   "source": [
    "## Specifying Architecture, Workload, and Mapping\n",
    "\n",
    "For the LoopTree model to estimate energy and latency, the user must specify an architecture, workload, and mapping. Below, we discuss how to specify each of these inputs.\n",
    "\n",
    "### Architecture\n",
    "In LoopTree, the architecture of an accelerator is abstracted as buffers that use the Buffet semantics and computation units, following the [Timeloop v4 specification](https://timeloop.csail.mit.edu/v4).\n",
    "\n",
    "An example architecture that we will use here is displayed below."
   ]
  },
  {
   "cell_type": "code",
   "execution_count": 1,
   "id": "fc6e2cf7-29eb-443d-885a-8c0262ca5edd",
   "metadata": {},
   "outputs": [
    {
     "name": "stdout",
     "output_type": "stream",
     "text": [
      "architecture:\n",
      "  version: 0.4\n",
      "  nodes:\n",
      "\n",
      "  - !Component\n",
      "    name: MainMemory\n",
      "    class: DRAM\n",
      "    attributes: {width: 256, block_size: 32, word_bits: 8, datawidth: 8}\n",
      "    required_actions: ['read', 'write']\n",
      "\n",
      "\n",
      "\n",
      "  - !Component\n",
      "    name: IntermediateBuffer\n",
      "    class: SRAM\n",
      "    attributes:\n",
      "      depth: 8192\n",
      "      width: 64\n",
      "      block_size: 32\n",
      "      word_bits: 8\n",
      "      datawidth: 8\n",
      "  \n",
      "  # - !Container\n",
      "  #   name: system_arch\n",
      "  #   attributes:\n",
      "  #     # Top-level attributes inherited by all components unless overridden\n",
      "  #     technology: \"45nm\"\n",
      "  #     global_cycle_seconds: 1e-9\n",
      "  #     datawidth: 16\n",
      "    \n",
      "\n",
      "  - !Component\n",
      "    name: DRAM # offchip DRAM is the source of all datatypes\n",
      "    class: DRAM # assume DRAM is large enough to store all the data, so no depth specification needed\n",
      "    attributes:\n",
      "      width: 64 # width in bits\n",
      "      datawidth: 16\n",
      "    required_actions: ['read', 'write']\n",
      "\n",
      "  # - !Container\n",
      "  #   name: chip\n",
      "\n",
      "  # - !Container\n",
      "  #   name: NNengine\n",
      "  #   spatial: { meshX: 16, meshY: 16 }\n",
      "\n",
      "  - !Component\n",
      "    name: global_buffer\n",
      "    class: SRAM\n",
      "    attributes:\n",
      "      width: 128\n",
      "      depth: 2048\n",
      "      datawidth: 16\n",
      "      n_banks: 1\n",
      "      n_rdwr_ports: 2\n",
      "      n_rd_ports: 0\n",
      "      n_wr_ports: 0\n",
      "    required_actions: ['read', 'write']\n",
      "\n",
      "  - !Container\n",
      "    name: nnEngine\n",
      "    spatial: {meshX: 16, meshY: 16}\n",
      "    attributes:\n",
      "      depth: 16\n",
      "      width: 16\n",
      "      datawidth: 8\n",
      "\n",
      "  # - !Component\n",
      "  #   name: LocalBuffer\n",
      "  #   class: SRAM\n",
      "  #   attributes:\n",
      "  #     depth: 8192\n",
      "  #     width: 256\n",
      "  #     block_size: 32\n",
      "  #     word_bits: 8\n",
      "  #     datawidth: 8\n",
      "  #   required_actions: ['read', 'write']\n",
      "\n",
      "\n",
      "  - !Container\n",
      "    name: PE\n",
      "    spatial: {meshX: 8, meshY: 8}\n",
      "    attributes:\n",
      "      depth: 8\n",
      "      width: 8\n",
      "      datawidth: 8\n",
      "    \n",
      "    \n",
      "  \n",
      "  - !Component \n",
      "    name: input_reg\n",
      "    class: regfile\n",
      "    attributes:\n",
      "      depth: 16\n",
      "      width: 16\n",
      "      datawidth: 8\n",
      "    constraints:\n",
      "      dataspace: {\n",
      "        keep: [Input, OutputVector1, OutputVector2, OutputVector3],\n",
      "        bypass: [Matrix_1, Matrix_2, Matrix_3, Matrix_4, OutputVector4]\n",
      "        }\n",
      "\n",
      "  - !Component \n",
      "    name: weights_reg\n",
      "    class: regfile\n",
      "    attributes:\n",
      "      depth: 16\n",
      "      width: 16\n",
      "      datawidth: 8\n",
      "    constraints:\n",
      "      dataspace: {\n",
      "        keep: [Matrix_1, Matrix_2, Matrix_3, Matrix_4],\n",
      "        bypass: [Input, OutputVector1, OutputVector2, OutputVector3, OutputVector4]\n",
      "        }\n",
      "\n",
      "  - !Component # Output scratchpad\n",
      "    name: output_reg\n",
      "    class: regfile\n",
      "    attributes:\n",
      "      depth: 16\n",
      "      width: 16\n",
      "      datawidth: 8\n",
      "    constraints:\n",
      "      dataspace: {\n",
      "        keep: [OutputVector1, OutputVector2, OutputVector3, OutputVector4],\n",
      "        bypass: [Matrix_1, Matrix_2, Matrix_3, Matrix_4, Input]\n",
      "        }\n",
      "\n",
      "\n",
      "\n",
      "  - !Component\n",
      "    name: MACC\n",
      "    class: intmac\n",
      "    attributes:\n",
      "      datawidth: 8\n",
      "      width: 8\n",
      "      cycle_time: 1e-9\n",
      "    required_actions: ['compute']\n"
     ]
    }
   ],
   "source": [
    "from util import *\n",
    "from pprint import pp\n",
    "show_config('architecture.yaml')"
   ]
  },
  {
   "cell_type": "markdown",
   "id": "cf9392be-34e6-4d8e-9d96-9e5b3c0bc0c2",
   "metadata": {},
   "source": [
    "### Workloads\n",
    "\n",
    "DNN workloads in LoopTree are abstracted as a set of Einsums, each representing a layer.\n",
    "\n",
    "Each Einsum is specified as a dictionary. Each Einsum reads/writes to a number of tensors (referred to as `data_spaces` in the specification), and each tensor is either an input to the operation or an output (indicated by a key \"read_write\" with value `True`). Moreover, a \"projection\" from the Einsum to each tensor, which describes the index of the element in the data that an operation in the Einsum accesses, must be specified. Finally, we specify must specify the *shape* of the Einsum, which is the bounds of its dimensions (also referred to as \"ranks\").\n",
    "\n",
    "An example comprising two fully-connected layers are shown below."
   ]
  },
  {
   "cell_type": "code",
   "execution_count": 2,
   "id": "5ab4d488-7b82-4a9d-8f15-1d3debe11aaf",
   "metadata": {},
   "outputs": [],
   "source": [
    "# show_config('two_fc.workload.yaml')"
   ]
  },
  {
   "cell_type": "markdown",
   "id": "e45ea13d-6158-44a4-867c-530c52a1cd6a",
   "metadata": {},
   "source": [
    "In this workload specification, we specify two Einsums Fc1 and Fc2. Each Einsum has three dimensions. Fc1 has dimensions P1, M1, and C1; Fc2 has dimensions P2, M2, and C2. Finally, we specify the shape of the Einsums as bounds for each Einsum dimension (rank)."
   ]
  },
  {
   "cell_type": "markdown",
   "id": "cdb0c8b9-59e2-4bb4-a6af-83f617b43c69",
   "metadata": {},
   "source": [
    "### Mapping\n",
    "\n",
    "The LoopTree mapping is a tree-structure that contains nodes of the types described below.\n",
    "- **Loops**: a loop node specifies a rank in the Einsum that is partitioned and the shape of the tiles that results from the partitioning. If the loop is a \"temporal\" loop, then the tiles are scheduled to be processed one at a time. If the loop is a \"spatial\" loop, then the tiles are scheduled to parallel hardware units.\n",
    "- **Branching point**: nodes above a branching point (*i.e.*, ancestor nodes) describe inter-Einsum mapping, which is applied to all Einsums under that branching point. Nodes underneath the branching point (*i.e.*, within each branch) pertain only to the Einsum of that branch.\n",
    "- **Storage**: a storage node specifies the tiles of tensors to retain and which hardware level retains the tiles.\n",
    "- **Compute**: a compute node specifies the hardware level used to compute operations of an Einsum. This node has to be a leaf node, and it also denotes the Einsum that a particular branch pertains to.\n",
    "\n",
    "First, we discuss a layer-by-layer mapping example."
   ]
  },
  {
   "cell_type": "code",
   "execution_count": 3,
   "id": "3bd28a74-5330-4624-a414-e5ca545984ac",
   "metadata": {},
   "outputs": [],
   "source": [
    "# show_config('layer-by-layer.mapping.yaml')"
   ]
  },
  {
   "cell_type": "markdown",
   "id": "2146686f-b807-491b-af7c-82bfe83bcf53",
   "metadata": {},
   "source": [
    "Explanation:\n",
    "- (1.a) The storage node specifies that the tensors specified by the `dspace` key will be retained in target 0, which we will bind to MainMemory.\n",
    "        Note that MainMemory retains Fmap2.\n",
    "- (1.b) The sequential node specifies that the following branches (one for Fc1 and one for Fc2, as we will see shortly) are processed sequentially.\n",
    "- (1.c) Filter1 is retained in GlobalBuffer\n",
    "- (1.d) The rank P1 (which is a rank of the Fc1 Einsum) is partitioned into tiles with shape 1 and we will iterate over the tiles one at a time (temporal iteration).\n",
    "- (1.e) Tiles of Fmap1 and Fmap2 are retained in GlobalBuffer. We retain tiles becuase the P1 rank has been partitioned.\n",
    "- (1.f) Operations of Fc1 are processed in the MACC unit. Moreover, this node specifies that this branch is relevant to Fc2.\n",
    "- (1.g) This and the following nodes specify how Fc2 is mapped."
   ]
  },
  {
   "cell_type": "code",
   "execution_count": 4,
   "id": "b3eaa59e-8b83-49ef-8f36-755135d6d5c6",
   "metadata": {},
   "outputs": [],
   "source": [
    "# show_config('fused.mapping.yaml')"
   ]
  },
  {
   "cell_type": "markdown",
   "id": "f213bff1-447f-4a80-922c-cef4c638d2eb",
   "metadata": {},
   "source": [
    "Explanation:\n",
    "- (2.a) Similar to (1.a), but note that Fmap2 is no longer retained in MainMemory.\n",
    "- (2.b) In this mapping, the $P2$ rank is partitioned to create tiles that are rows of feature maps Fmap1, Fmap2, and Fmap3. The tile shape attribute of the loop node implies that the tiles of Fmap3 have shape 1 in the $P2$ rank. LoopTree infers the shape of the tiles of Fmap2 and Fmap1 based on what is required as inputs to compute the specified tile of Fmap3. In this case, tiles that each contains one row of Fmap2 is required to compute tiles of Fmap3, and tiles that each contains one row of Fmap1 is required to compute tiles of Fmap2 in turn.\n",
    "- (2.c) The tiles of Fmap1, Fmap2, and Fmap3 are retained in GlobalBuffer.\n",
    "- (2.d) Similar to before, Fc1 and Fc2 are processed sequentially. However, as we have put node (2.b) above this sequential node, *tiles* of Fc1 and Fc2 are processed sequentially in alternating fashion: a tile of Fc1 produces a tile of Fmap2, the tile of Fmap2 is consumed by a tile of Fc2, another tile of Fc1 is produced, and so on."
   ]
  },
  {
   "cell_type": "markdown",
   "id": "edc558a8-360c-42ab-a62b-80edd1745924",
   "metadata": {},
   "source": [
    "## Running the Model\n",
    "\n",
    "Running with the four matrix multiplications in a row (Test 1)"
   ]
  },
  {
   "cell_type": "code",
   "execution_count": 25,
   "id": "87522bd4-a683-46ae-884f-b35f01a557e3",
   "metadata": {},
   "outputs": [],
   "source": [
    "from pytimeloop.looptree.run import run_looptree\n",
    "from util import *\n",
    "from pprint import pp\n",
    "# show_config('architecture.yaml')\n",
    "# As previously mentioned, bindings map levels specified in the mapping\n",
    "# to the hardware units specified in the architecture spec.\n",
    "bindings = {\n",
    "    0: 'MainMemory',\n",
    "    1: 'IntermediateBuffer',\n",
    "    # 2: 'LocalBuffer',\n",
    "    # 3: 'input_reg',\n",
    "    # 4: 'weight_reg',\n",
    "    # 5: 'output_reg',\n",
    "    3: 'MACC'\n",
    "}\n",
    "\n",
    "stats = run_looptree(\n",
    "    CONFIG_DIR,\n",
    "    # ['architecture.yaml', 'two_fc.workload.yaml', 'layer-by-layer.mapping.yaml'],\n",
    "    ['architecture.yaml', 'matrix_multiplication_workload.yaml','matrix_mapping.yaml'],\n",
    "    TMP_DIR,\n",
    "    bindings,\n",
    "    call_accelergy=True\n",
    ")"
   ]
  },
  {
   "cell_type": "code",
   "execution_count": 23,
   "id": "7b6f2040-068f-4505-95aa-cf183f9632a5",
   "metadata": {},
   "outputs": [
    {
     "name": "stdout",
     "output_type": "stream",
     "text": [
      "Latency: 8388608\n"
     ]
    }
   ],
   "source": [
    "print('Latency:', stats.latency)"
   ]
  },
  {
   "cell_type": "markdown",
   "id": "6e95b0b1-e942-4362-ab76-818742ac2a78",
   "metadata": {},
   "source": [
    "and also energy, which is computed by calculating the number of actions to each hardware component and multiplying that with the energy per action estimated using the Accelergy tool:"
   ]
  },
  {
   "cell_type": "code",
   "execution_count": 24,
   "id": "4427d1fc-aedf-4ee6-8030-5809a2c92596",
   "metadata": {},
   "outputs": [
    {
     "name": "stdout",
     "output_type": "stream",
     "text": [
      "Energy:\n",
      "{('MainMemory', 'read'): 167772160.0,\n",
      " ('IntermediateBuffer', 'read'): 3054177943.552,\n",
      " ('IntermediateBuffer', 'write'): 974974713.8560001,\n",
      " ('MainMemory', 'write'): 67108864.0,\n",
      " ('MACC', 'compute'): 7088373.76}\n"
     ]
    }
   ],
   "source": [
    "print('Energy:')\n",
    "pp(stats.energy)"
   ]
  },
  {
   "cell_type": "code",
   "execution_count": 1,
   "id": "542ed82e-22e9-4f4a-a55e-34fa80f9d4eb",
   "metadata": {},
   "outputs": [
    {
     "ename": "ParseError",
     "evalue": "Error calling cast function \"Architecture\" for value \"{'version': 0.4, 'nodes': [{'name': 'MainMemory', 'class': 'DRAM', 'attributes': {'width': 256, 'block_size': 32, 'word_bits': 8, 'datawidth': 8}, 'required_actions': ['read', 'write']}, {'name': 'IntermediateBuffer', 'class': 'SRAM', 'attributes': {'depth': 8192, 'width': 256, 'block_size': 32, 'word_bits': 8, 'datawidth': 8}, 'required_actions': ['read', 'write']}, {'name': 'nnEngine', 'spatial': {'meshX': 4, 'meshY': 4}, 'attributes': {'depth': 16, 'width': 16, 'datawidth': 8}}, {'name': 'PE', 'spatial': {'meshX': 8, 'meshY': 8}, 'attributes': {'depth': 8, 'width': 8, 'datawidth': 8}}, {'name': 'scratchpad', 'class': 'smart_storage', 'attributes': {'depth': 128, 'datawidth': 8, 'width': 8}}, {'name': 'input_reg', 'class': 'regfile', 'attributes': {'depth': 16, 'datawidth': 8, 'width': 8}, 'constraints': {'dataspace': {'keep': ['Input', 'OutputVector1', 'OutputVector2', 'OutputVector3'], 'bypass': ['Matrix_1', 'Matrix_2', 'Matrix_3', 'Matrix_4', 'OutputVector4']}}, 'required_actions': ['read', 'write', 'compute']}, {'name': 'output_reg', 'class': 'regfile', 'attributes': {'depth': 16, 'width': 16, 'datawidth': 8}, 'constraints': {'dataspace': {'keep': ['OutputVector1', 'OutputVector2', 'OutputVector3', 'OutputVector4'], 'bypass': ['Matrix_1', 'Matrix_2', 'Matrix_3', 'Matrix_4', 'Input']}}, 'required_actions': ['read', 'write', 'compute']}, {'name': 'weights_reg', 'class': 'regfile', 'attributes': {'depth': 16, 'width': 16, 'datawidth': 8}, 'constraints': {'dataspace': {'keep': ['Matrix_1', 'Matrix_2', 'Matrix_3', 'Matrix_4'], 'bypass': ['Input', 'OutputVector1', 'OutputVector2', 'OutputVector3', 'OutputVector4']}}, 'required_actions': ['read', 'write', 'compute']}, {'name': 'MACC', 'class': 'intmac', 'attributes': {'datawidth': 8, 'width': 8, 'cycle_time': 1e-09}, 'required_actions': ['compute']}]}\" in Specification[architecture]. \n\n'Missing required key \"depth\" in StorageAttributes={\\'entries\\': REQUIRED, \\'sizeKB\\': REQUIRED, \\'reducti.... Required keys not found: depth. Found keys: width, block_size, word_bits, datawidth, has_power_gating, power_gated_at, technology, n_banks, cluster_size.'. Error calling cast function \"ArchNodes\" for value \"[{'name': 'MainMemory', 'class': 'DRAM', 'attributes': {'width': 256, 'block_size': 32, 'word_bits': 8, 'datawidth': 8}, 'required_actions': ['read', 'write']}, {'name': 'IntermediateBuffer', 'class': 'SRAM', 'attributes': {'depth': 8192, 'width': 256, 'block_size': 32, 'word_bits': 8, 'datawidth': 8}, 'required_actions': ['read', 'write']}, {'name': 'nnEngine', 'spatial': {'meshX': 4, 'meshY': 4}, 'attributes': {'depth': 16, 'width': 16, 'datawidth': 8}}, {'name': 'PE', 'spatial': {'meshX': 8, 'meshY': 8}, 'attributes': {'depth': 8, 'width': 8, 'datawidth': 8}}, {'name': 'scratchpad', 'class': 'smart_storage', 'attributes': {'depth': 128, 'datawidth': 8, 'width': 8}}, {'name': 'input_reg', 'class': 'regfile', 'attributes': {'depth': 16, 'datawidth': 8, 'width': 8}, 'constraints': {'dataspace': {'keep': ['Input', 'OutputVector1', 'OutputVector2', 'OutputVector3'], 'bypass': ['Matrix_1', 'Matrix_2', 'Matrix_3', 'Matrix_4', 'OutputVector4']}}, 'required_actions': ['read', 'write', 'compute']}, {'name': 'output_reg', 'class': 'regfile', 'attributes': {'depth': 16, 'width': 16, 'datawidth': 8}, 'constraints': {'dataspace': {'keep': ['OutputVector1', 'OutputVector2', 'OutputVector3', 'OutputVector4'], 'bypass': ['Matrix_1', 'Matrix_2', 'Matrix_3', 'Matrix_4', 'Input']}}, 'required_actions': ['read', 'write', 'compute']}, {'name': 'weights_reg', 'class': 'regfile', 'attributes': {'depth': 16, 'width': 16, 'datawidth': 8}, 'constraints': {'dataspace': {'keep': ['Matrix_1', 'Matrix_2', 'Matrix_3', 'Matrix_4'], 'bypass': ['Input', 'OutputVector1', 'OutputVector2', 'OutputVector3', 'OutputVector4']}}, 'required_actions': ['read', 'write', 'compute']}, {'name': 'MACC', 'class': 'intmac', 'attributes': {'datawidth': 8, 'width': 8, 'cycle_time': 1e-09}, 'required_actions': ['compute']}]\" in Architecture[nodes]. \n\n'Missing required key \"depth\" in StorageAttributes={\\'entries\\': REQUIRED, \\'sizeKB\\': REQUIRED, \\'reducti.... Required keys not found: depth. Found keys: width, block_size, word_bits, datawidth, has_power_gating, power_gated_at, technology, n_banks, cluster_size.'. Error calling cast function \"component_factory\" for value \"{'name': 'MainMemory', 'class': 'DRAM', 'attributes': {'width': 256, 'block_size': 32, 'word_bits': 8, 'datawidth': 8}, 'required_actions': ['read', 'write']}\" in ArchNodes[0]. \n\n'Missing required key \"depth\" in StorageAttributes={\\'entries\\': REQUIRED, \\'sizeKB\\': REQUIRED, \\'reducti.... Required keys not found: depth. Found keys: width, block_size, word_bits, datawidth, has_power_gating, power_gated_at, technology, n_banks, cluster_size.'. Error calling cast function \"StorageAttributes\" for value \"{'width': 256, 'block_size': 32, 'word_bits': 8, 'datawidth': 8}\" in Storage(MainMemory)[attributes]. \n\n'Missing required key \"depth\" in StorageAttributes={\\'entries\\': REQUIRED, \\'sizeKB\\': REQUIRED, \\'reducti.... Required keys not found: depth. Found keys: width, block_size, word_bits, datawidth, has_power_gating, power_gated_at, technology, n_banks, cluster_size.'. 'Missing required key \"depth\" in StorageAttributes={\\'entries\\': REQUIRED, \\'sizeKB\\': REQUIRED, \\'reducti.... Required keys not found: depth. Found keys: width, block_size, word_bits, datawidth, has_power_gating, power_gated_at, technology, n_banks, cluster_size.'",
     "output_type": "error",
     "traceback": [
      "\u001b[0;31m---------------------------------------------------------------------------\u001b[0m",
      "\u001b[0;31mKeyError\u001b[0m                                  Traceback (most recent call last)",
      "File \u001b[0;32m/usr/local/lib/python3.10/dist-packages/pytimeloop/timeloopfe/common/nodes.py:134\u001b[0m, in \u001b[0;36mTypeSpecifier.cast_check_type\u001b[0;34m(self, value, node, key)\u001b[0m\n\u001b[1;32m    133\u001b[0m \u001b[38;5;28;01mtry\u001b[39;00m:\n\u001b[0;32m--> 134\u001b[0m     casted \u001b[38;5;241m=\u001b[39m \u001b[38;5;28;43mself\u001b[39;49m\u001b[38;5;241;43m.\u001b[39;49m\u001b[43mcast\u001b[49m\u001b[43m(\u001b[49m\u001b[43mvalue\u001b[49m\u001b[43m)\u001b[49m\n\u001b[1;32m    135\u001b[0m \u001b[38;5;28;01mexcept\u001b[39;00m \u001b[38;5;167;01mException\u001b[39;00m \u001b[38;5;28;01mas\u001b[39;00m exc:\n",
      "File \u001b[0;32m/usr/local/lib/python3.10/dist-packages/pytimeloop/timeloopfe/common/nodes.py:182\u001b[0m, in \u001b[0;36mTypeSpecifier.cast\u001b[0;34m(self, value, _TypeSpecifier__node_skip_parse)\u001b[0m\n\u001b[1;32m    181\u001b[0m     \u001b[38;5;28;01melse\u001b[39;00m:\n\u001b[0;32m--> 182\u001b[0m         value \u001b[38;5;241m=\u001b[39m \u001b[38;5;28;43mself\u001b[39;49m\u001b[38;5;241;43m.\u001b[39;49m\u001b[43mcallfunc\u001b[49m\u001b[43m(\u001b[49m\u001b[43mvalue\u001b[49m\u001b[43m)\u001b[49m\n\u001b[1;32m    183\u001b[0m \u001b[38;5;28;01mtry\u001b[39;00m:\n",
      "File \u001b[0;32m/usr/local/lib/python3.10/dist-packages/pytimeloop/timeloopfe/common/nodes.py:96\u001b[0m, in \u001b[0;36mTypeSpecifier.__init__.<locals>.callfunc\u001b[0;34m(x, _TypeSpecifier__node_skip_parse)\u001b[0m\n\u001b[1;32m     95\u001b[0m     \u001b[38;5;28;01mreturn\u001b[39;00m x\n\u001b[0;32m---> 96\u001b[0m \u001b[38;5;28;01mreturn\u001b[39;00m \u001b[43mrt\u001b[49m\u001b[43m(\u001b[49m\u001b[43mx\u001b[49m\u001b[43m,\u001b[49m\u001b[43m \u001b[49m\u001b[43m__node_skip_parse\u001b[49m\u001b[38;5;241;43m=\u001b[39;49m\u001b[43m__node_skip_parse\u001b[49m\u001b[43m)\u001b[49m\n",
      "File \u001b[0;32m/usr/local/lib/python3.10/dist-packages/pytimeloop/timeloopfe/v4/arch.py:560\u001b[0m, in \u001b[0;36mStorageAttributes.__init__\u001b[0;34m(self, *args, **kwargs)\u001b[0m\n\u001b[1;32m    559\u001b[0m \u001b[38;5;28;01mdef\u001b[39;00m\u001b[38;5;250m \u001b[39m\u001b[38;5;21m__init__\u001b[39m(\u001b[38;5;28mself\u001b[39m, \u001b[38;5;241m*\u001b[39margs, \u001b[38;5;241m*\u001b[39m\u001b[38;5;241m*\u001b[39mkwargs):\n\u001b[0;32m--> 560\u001b[0m     \u001b[38;5;28;43msuper\u001b[39;49m\u001b[43m(\u001b[49m\u001b[43m)\u001b[49m\u001b[38;5;241;43m.\u001b[39;49m\u001b[38;5;21;43m__init__\u001b[39;49m\u001b[43m(\u001b[49m\u001b[38;5;241;43m*\u001b[39;49m\u001b[43margs\u001b[49m\u001b[43m,\u001b[49m\u001b[43m \u001b[49m\u001b[38;5;241;43m*\u001b[39;49m\u001b[38;5;241;43m*\u001b[39;49m\u001b[43mkwargs\u001b[49m\u001b[43m)\u001b[49m\n\u001b[1;32m    561\u001b[0m     \u001b[38;5;28mself\u001b[39m\u001b[38;5;241m.\u001b[39mdatawidth: Union[\u001b[38;5;28mstr\u001b[39m, \u001b[38;5;28mint\u001b[39m] \u001b[38;5;241m=\u001b[39m \u001b[38;5;28mself\u001b[39m[\u001b[38;5;124m\"\u001b[39m\u001b[38;5;124mdatawidth\u001b[39m\u001b[38;5;124m\"\u001b[39m]\n",
      "File \u001b[0;32m/usr/local/lib/python3.10/dist-packages/pytimeloop/timeloopfe/v4/arch.py:467\u001b[0m, in \u001b[0;36mAttributes.__init__\u001b[0;34m(self, *args, **kwargs)\u001b[0m\n\u001b[1;32m    466\u001b[0m \u001b[38;5;28;01mdef\u001b[39;00m\u001b[38;5;250m \u001b[39m\u001b[38;5;21m__init__\u001b[39m(\u001b[38;5;28mself\u001b[39m, \u001b[38;5;241m*\u001b[39margs, \u001b[38;5;241m*\u001b[39m\u001b[38;5;241m*\u001b[39mkwargs):\n\u001b[0;32m--> 467\u001b[0m     \u001b[38;5;28;43msuper\u001b[39;49m\u001b[43m(\u001b[49m\u001b[43m)\u001b[49m\u001b[38;5;241;43m.\u001b[39;49m\u001b[38;5;21;43m__init__\u001b[39;49m\u001b[43m(\u001b[49m\u001b[38;5;241;43m*\u001b[39;49m\u001b[43margs\u001b[49m\u001b[43m,\u001b[49m\u001b[43m \u001b[49m\u001b[38;5;241;43m*\u001b[39;49m\u001b[38;5;241;43m*\u001b[39;49m\u001b[43mkwargs\u001b[49m\u001b[43m)\u001b[49m\n\u001b[1;32m    468\u001b[0m     \u001b[38;5;28mself\u001b[39m\u001b[38;5;241m.\u001b[39m_default_parse \u001b[38;5;241m=\u001b[39m \u001b[38;5;28;01mTrue\u001b[39;00m\n",
      "File \u001b[0;32m/usr/local/lib/python3.10/dist-packages/pytimeloop/timeloopfe/common/nodes.py:1221\u001b[0m, in \u001b[0;36mDictNode.__init__\u001b[0;34m(self, _DictNode__node_skip_parse, *args, **kwargs)\u001b[0m\n\u001b[1;32m   1220\u001b[0m \u001b[38;5;28;01mif\u001b[39;00m \u001b[38;5;129;01mnot\u001b[39;00m __node_skip_parse:\n\u001b[0;32m-> 1221\u001b[0m     \u001b[38;5;28;43mself\u001b[39;49m\u001b[38;5;241;43m.\u001b[39;49m\u001b[43m_parse_elems\u001b[49m\u001b[43m(\u001b[49m\u001b[43m)\u001b[49m\n",
      "File \u001b[0;32m/usr/local/lib/python3.10/dist-packages/pytimeloop/timeloopfe/common/nodes.py:549\u001b[0m, in \u001b[0;36mNode._parse_elems\u001b[0;34m(self)\u001b[0m\n\u001b[1;32m    548\u001b[0m \u001b[38;5;28;01mfor\u001b[39;00m k, check \u001b[38;5;129;01min\u001b[39;00m \u001b[38;5;28mself\u001b[39m\u001b[38;5;241m.\u001b[39m_get_index2checker()\u001b[38;5;241m.\u001b[39mitems():\n\u001b[0;32m--> 549\u001b[0m     \u001b[38;5;28;43mself\u001b[39;49m\u001b[38;5;241;43m.\u001b[39;49m\u001b[43m_parse_elem\u001b[49m\u001b[43m(\u001b[49m\u001b[43mk\u001b[49m\u001b[43m,\u001b[49m\u001b[43m \u001b[49m\u001b[43mcheck\u001b[49m\u001b[43m)\u001b[49m\n",
      "File \u001b[0;32m/usr/local/lib/python3.10/dist-packages/pytimeloop/timeloopfe/common/nodes.py:502\u001b[0m, in \u001b[0;36mNode._parse_elem\u001b[0;34m(self, key, check, value_override)\u001b[0m\n\u001b[1;32m    501\u001b[0m         found \u001b[38;5;241m=\u001b[39m \u001b[38;5;124m\"\u001b[39m\u001b[38;5;124mFound keys: \u001b[39m\u001b[38;5;124m\"\u001b[39m \u001b[38;5;241m+\u001b[39m \u001b[38;5;124m\"\u001b[39m\u001b[38;5;124m, \u001b[39m\u001b[38;5;124m\"\u001b[39m\u001b[38;5;241m.\u001b[39mjoin(found)\n\u001b[0;32m--> 502\u001b[0m         \u001b[38;5;28;01mraise\u001b[39;00m \u001b[38;5;167;01mKeyError\u001b[39;00m(\n\u001b[1;32m    503\u001b[0m             \u001b[38;5;124mf\u001b[39m\u001b[38;5;124m'\u001b[39m\u001b[38;5;124mMissing required key \u001b[39m\u001b[38;5;124m\"\u001b[39m\u001b[38;5;132;01m{\u001b[39;00mkey\u001b[38;5;132;01m}\u001b[39;00m\u001b[38;5;124m\"\u001b[39m\u001b[38;5;124m in \u001b[39m\u001b[38;5;132;01m{\u001b[39;00m\u001b[38;5;28mself\u001b[39m\u001b[38;5;132;01m}\u001b[39;00m\u001b[38;5;124m. \u001b[39m\u001b[38;5;132;01m{\u001b[39;00mrq\u001b[38;5;132;01m}\u001b[39;00m\u001b[38;5;124m. \u001b[39m\u001b[38;5;132;01m{\u001b[39;00mfound\u001b[38;5;132;01m}\u001b[39;00m\u001b[38;5;124m.\u001b[39m\u001b[38;5;124m'\u001b[39m\n\u001b[1;32m    504\u001b[0m         )\n\u001b[1;32m    506\u001b[0m \u001b[38;5;28mself\u001b[39m\u001b[38;5;241m.\u001b[39m__currently_parsing_index \u001b[38;5;241m=\u001b[39m key\n",
      "\u001b[0;31mKeyError\u001b[0m: 'Missing required key \"depth\" in StorageAttributes={\\'entries\\': REQUIRED, \\'sizeKB\\': REQUIRED, \\'reducti.... Required keys not found: depth. Found keys: width, block_size, word_bits, datawidth, has_power_gating, power_gated_at, technology, n_banks, cluster_size.'",
      "\nThe above exception was the direct cause of the following exception:\n",
      "\u001b[0;31mParseError\u001b[0m                                Traceback (most recent call last)",
      "File \u001b[0;32m/usr/local/lib/python3.10/dist-packages/pytimeloop/timeloopfe/common/nodes.py:134\u001b[0m, in \u001b[0;36mTypeSpecifier.cast_check_type\u001b[0;34m(self, value, node, key)\u001b[0m\n\u001b[1;32m    133\u001b[0m \u001b[38;5;28;01mtry\u001b[39;00m:\n\u001b[0;32m--> 134\u001b[0m     casted \u001b[38;5;241m=\u001b[39m \u001b[38;5;28;43mself\u001b[39;49m\u001b[38;5;241;43m.\u001b[39;49m\u001b[43mcast\u001b[49m\u001b[43m(\u001b[49m\u001b[43mvalue\u001b[49m\u001b[43m)\u001b[49m\n\u001b[1;32m    135\u001b[0m \u001b[38;5;28;01mexcept\u001b[39;00m \u001b[38;5;167;01mException\u001b[39;00m \u001b[38;5;28;01mas\u001b[39;00m exc:\n",
      "File \u001b[0;32m/usr/local/lib/python3.10/dist-packages/pytimeloop/timeloopfe/common/nodes.py:182\u001b[0m, in \u001b[0;36mTypeSpecifier.cast\u001b[0;34m(self, value, _TypeSpecifier__node_skip_parse)\u001b[0m\n\u001b[1;32m    181\u001b[0m     \u001b[38;5;28;01melse\u001b[39;00m:\n\u001b[0;32m--> 182\u001b[0m         value \u001b[38;5;241m=\u001b[39m \u001b[38;5;28;43mself\u001b[39;49m\u001b[38;5;241;43m.\u001b[39;49m\u001b[43mcallfunc\u001b[49m\u001b[43m(\u001b[49m\u001b[43mvalue\u001b[49m\u001b[43m)\u001b[49m\n\u001b[1;32m    183\u001b[0m \u001b[38;5;28;01mtry\u001b[39;00m:\n",
      "File \u001b[0;32m/usr/local/lib/python3.10/dist-packages/pytimeloop/timeloopfe/v4/arch.py:659\u001b[0m, in \u001b[0;36mcomponent_factory\u001b[0;34m(*args, **kwargs)\u001b[0m\n\u001b[1;32m    658\u001b[0m     \u001b[38;5;28;01mif\u001b[39;00m \u001b[38;5;28many\u001b[39m([e \u001b[38;5;129;01min\u001b[39;00m element_class \u001b[38;5;28;01mfor\u001b[39;00m e \u001b[38;5;129;01min\u001b[39;00m c]):\n\u001b[0;32m--> 659\u001b[0m         \u001b[38;5;28;01mreturn\u001b[39;00m \u001b[43mtarget\u001b[49m\u001b[43m(\u001b[49m\u001b[38;5;241;43m*\u001b[39;49m\u001b[38;5;241;43m*\u001b[39;49m\u001b[43mkwargs\u001b[49m\u001b[43m)\u001b[49m\n\u001b[1;32m    661\u001b[0m \u001b[38;5;28;01mraise\u001b[39;00m \u001b[38;5;167;01mValueError\u001b[39;00m(\n\u001b[1;32m    662\u001b[0m     \u001b[38;5;124mf\u001b[39m\u001b[38;5;124m\"\u001b[39m\u001b[38;5;124mUnknown element class \u001b[39m\u001b[38;5;132;01m{\u001b[39;00melement_class\u001b[38;5;132;01m}\u001b[39;00m\u001b[38;5;124m. \u001b[39m\u001b[38;5;124m\"\u001b[39m \u001b[38;5;124mf\u001b[39m\u001b[38;5;124m\"\u001b[39m\u001b[38;5;124mAccepted classes: \u001b[39m\u001b[38;5;132;01m{\u001b[39;00mclass2class\u001b[38;5;132;01m}\u001b[39;00m\u001b[38;5;124m\"\u001b[39m\n\u001b[1;32m    663\u001b[0m )\n",
      "File \u001b[0;32m/usr/local/lib/python3.10/dist-packages/pytimeloop/timeloopfe/v4/arch.py:384\u001b[0m, in \u001b[0;36mStorage.__init__\u001b[0;34m(self, *args, **kwargs)\u001b[0m\n\u001b[1;32m    383\u001b[0m \u001b[38;5;28;01mdef\u001b[39;00m\u001b[38;5;250m \u001b[39m\u001b[38;5;21m__init__\u001b[39m(\u001b[38;5;28mself\u001b[39m, \u001b[38;5;241m*\u001b[39margs, \u001b[38;5;241m*\u001b[39m\u001b[38;5;241m*\u001b[39mkwargs):\n\u001b[0;32m--> 384\u001b[0m     \u001b[38;5;28;43msuper\u001b[39;49m\u001b[43m(\u001b[49m\u001b[43m)\u001b[49m\u001b[38;5;241;43m.\u001b[39;49m\u001b[38;5;21;43m__init__\u001b[39;49m\u001b[43m(\u001b[49m\u001b[38;5;28;43mself\u001b[39;49m\u001b[43m,\u001b[49m\u001b[43m \u001b[49m\u001b[38;5;241;43m*\u001b[39;49m\u001b[43margs\u001b[49m\u001b[43m,\u001b[49m\u001b[43m \u001b[49m\u001b[38;5;241;43m*\u001b[39;49m\u001b[38;5;241;43m*\u001b[39;49m\u001b[43mkwargs\u001b[49m\u001b[43m)\u001b[49m\n\u001b[1;32m    385\u001b[0m     \u001b[38;5;28mself\u001b[39m\u001b[38;5;241m.\u001b[39mattributes: StorageAttributes \u001b[38;5;241m=\u001b[39m \u001b[38;5;28mself\u001b[39m[\u001b[38;5;124m\"\u001b[39m\u001b[38;5;124mattributes\u001b[39m\u001b[38;5;124m\"\u001b[39m]\n",
      "File \u001b[0;32m/usr/local/lib/python3.10/dist-packages/pytimeloop/timeloopfe/v4/arch.py:335\u001b[0m, in \u001b[0;36mComponent.__init__\u001b[0;34m(self, *args, **kwargs)\u001b[0m\n\u001b[1;32m    334\u001b[0m \u001b[38;5;28;01mdef\u001b[39;00m\u001b[38;5;250m \u001b[39m\u001b[38;5;21m__init__\u001b[39m(\u001b[38;5;28mself\u001b[39m, \u001b[38;5;241m*\u001b[39margs, \u001b[38;5;241m*\u001b[39m\u001b[38;5;241m*\u001b[39mkwargs):\n\u001b[0;32m--> 335\u001b[0m     \u001b[38;5;28;43msuper\u001b[39;49m\u001b[43m(\u001b[49m\u001b[43m)\u001b[49m\u001b[38;5;241;43m.\u001b[39;49m\u001b[38;5;21;43m__init__\u001b[39;49m\u001b[43m(\u001b[49m\u001b[38;5;241;43m*\u001b[39;49m\u001b[43margs\u001b[49m\u001b[43m,\u001b[49m\u001b[43m \u001b[49m\u001b[38;5;241;43m*\u001b[39;49m\u001b[38;5;241;43m*\u001b[39;49m\u001b[43mkwargs\u001b[49m\u001b[43m)\u001b[49m\n\u001b[1;32m    336\u001b[0m     \u001b[38;5;28mself\u001b[39m\u001b[38;5;241m.\u001b[39m_class: \u001b[38;5;28mstr\u001b[39m \u001b[38;5;241m=\u001b[39m \u001b[38;5;28mself\u001b[39m[\u001b[38;5;124m\"\u001b[39m\u001b[38;5;124mclass\u001b[39m\u001b[38;5;124m\"\u001b[39m]\n",
      "File \u001b[0;32m/usr/local/lib/python3.10/dist-packages/pytimeloop/timeloopfe/v4/arch.py:270\u001b[0m, in \u001b[0;36mLeaf.__init__\u001b[0;34m(self, *args, **kwargs)\u001b[0m\n\u001b[1;32m    269\u001b[0m \u001b[38;5;28;01mdef\u001b[39;00m\u001b[38;5;250m \u001b[39m\u001b[38;5;21m__init__\u001b[39m(\u001b[38;5;28mself\u001b[39m, \u001b[38;5;241m*\u001b[39margs, \u001b[38;5;241m*\u001b[39m\u001b[38;5;241m*\u001b[39mkwargs):\n\u001b[0;32m--> 270\u001b[0m     \u001b[38;5;28;43msuper\u001b[39;49m\u001b[43m(\u001b[49m\u001b[43m)\u001b[49m\u001b[38;5;241;43m.\u001b[39;49m\u001b[38;5;21;43m__init__\u001b[39;49m\u001b[43m(\u001b[49m\u001b[38;5;241;43m*\u001b[39;49m\u001b[43margs\u001b[49m\u001b[43m,\u001b[49m\u001b[43m \u001b[49m\u001b[38;5;241;43m*\u001b[39;49m\u001b[38;5;241;43m*\u001b[39;49m\u001b[43mkwargs\u001b[49m\u001b[43m)\u001b[49m\n\u001b[1;32m    271\u001b[0m     \u001b[38;5;28mself\u001b[39m\u001b[38;5;241m.\u001b[39mname: \u001b[38;5;28mstr\u001b[39m \u001b[38;5;241m=\u001b[39m \u001b[38;5;28mself\u001b[39m[\u001b[38;5;124m\"\u001b[39m\u001b[38;5;124mname\u001b[39m\u001b[38;5;124m\"\u001b[39m]\n",
      "File \u001b[0;32m/usr/local/lib/python3.10/dist-packages/pytimeloop/timeloopfe/v4/arch.py:33\u001b[0m, in \u001b[0;36mArchNode.__init__\u001b[0;34m(self, *args, **kwargs)\u001b[0m\n\u001b[1;32m     32\u001b[0m \u001b[38;5;28;01mdef\u001b[39;00m\u001b[38;5;250m \u001b[39m\u001b[38;5;21m__init__\u001b[39m(\u001b[38;5;28mself\u001b[39m, \u001b[38;5;241m*\u001b[39margs, \u001b[38;5;241m*\u001b[39m\u001b[38;5;241m*\u001b[39mkwargs):\n\u001b[0;32m---> 33\u001b[0m     \u001b[38;5;28;43msuper\u001b[39;49m\u001b[43m(\u001b[49m\u001b[43m)\u001b[49m\u001b[38;5;241;43m.\u001b[39;49m\u001b[38;5;21;43m__init__\u001b[39;49m\u001b[43m(\u001b[49m\u001b[38;5;241;43m*\u001b[39;49m\u001b[43margs\u001b[49m\u001b[43m,\u001b[49m\u001b[43m \u001b[49m\u001b[38;5;241;43m*\u001b[39;49m\u001b[38;5;241;43m*\u001b[39;49m\u001b[43mkwargs\u001b[49m\u001b[43m)\u001b[49m\n\u001b[1;32m     35\u001b[0m     \u001b[38;5;66;03m# Make sure all leaf names are unique\u001b[39;00m\n",
      "File \u001b[0;32m/usr/local/lib/python3.10/dist-packages/pytimeloop/timeloopfe/common/nodes.py:1221\u001b[0m, in \u001b[0;36mDictNode.__init__\u001b[0;34m(self, _DictNode__node_skip_parse, *args, **kwargs)\u001b[0m\n\u001b[1;32m   1220\u001b[0m \u001b[38;5;28;01mif\u001b[39;00m \u001b[38;5;129;01mnot\u001b[39;00m __node_skip_parse:\n\u001b[0;32m-> 1221\u001b[0m     \u001b[38;5;28;43mself\u001b[39;49m\u001b[38;5;241;43m.\u001b[39;49m\u001b[43m_parse_elems\u001b[49m\u001b[43m(\u001b[49m\u001b[43m)\u001b[49m\n",
      "File \u001b[0;32m/usr/local/lib/python3.10/dist-packages/pytimeloop/timeloopfe/common/nodes.py:549\u001b[0m, in \u001b[0;36mNode._parse_elems\u001b[0;34m(self)\u001b[0m\n\u001b[1;32m    548\u001b[0m \u001b[38;5;28;01mfor\u001b[39;00m k, check \u001b[38;5;129;01min\u001b[39;00m \u001b[38;5;28mself\u001b[39m\u001b[38;5;241m.\u001b[39m_get_index2checker()\u001b[38;5;241m.\u001b[39mitems():\n\u001b[0;32m--> 549\u001b[0m     \u001b[38;5;28;43mself\u001b[39;49m\u001b[38;5;241;43m.\u001b[39;49m\u001b[43m_parse_elem\u001b[49m\u001b[43m(\u001b[49m\u001b[43mk\u001b[49m\u001b[43m,\u001b[49m\u001b[43m \u001b[49m\u001b[43mcheck\u001b[49m\u001b[43m)\u001b[49m\n",
      "File \u001b[0;32m/usr/local/lib/python3.10/dist-packages/pytimeloop/timeloopfe/common/nodes.py:526\u001b[0m, in \u001b[0;36mNode._parse_elem\u001b[0;34m(self, key, check, value_override)\u001b[0m\n\u001b[1;32m    525\u001b[0m \u001b[38;5;28;01mif\u001b[39;00m check \u001b[38;5;129;01mis\u001b[39;00m \u001b[38;5;129;01mnot\u001b[39;00m \u001b[38;5;28;01mNone\u001b[39;00m:\n\u001b[0;32m--> 526\u001b[0m     v \u001b[38;5;241m=\u001b[39m \u001b[43mcheck\u001b[49m\u001b[38;5;241;43m.\u001b[39;49m\u001b[43mcast_check_type\u001b[49m\u001b[43m(\u001b[49m\u001b[43mv\u001b[49m\u001b[43m,\u001b[49m\u001b[43m \u001b[49m\u001b[38;5;28;43mself\u001b[39;49m\u001b[43m,\u001b[49m\u001b[43m \u001b[49m\u001b[43mkey\u001b[49m\u001b[43m)\u001b[49m\n\u001b[1;32m    528\u001b[0m \u001b[38;5;28;01mif\u001b[39;00m \u001b[38;5;28misinstance\u001b[39m(v, Node):\n",
      "File \u001b[0;32m/usr/local/lib/python3.10/dist-packages/pytimeloop/timeloopfe/common/nodes.py:171\u001b[0m, in \u001b[0;36mTypeSpecifier.cast_check_type\u001b[0;34m(self, value, node, key)\u001b[0m\n\u001b[1;32m    170\u001b[0m     new_exc\u001b[38;5;241m.\u001b[39m_last_non_node_exception \u001b[38;5;241m=\u001b[39m last_non_node_exception\n\u001b[0;32m--> 171\u001b[0m     \u001b[38;5;28;01mraise\u001b[39;00m new_exc \u001b[38;5;28;01mfrom\u001b[39;00m\u001b[38;5;250m \u001b[39m\u001b[38;5;21;01mexc\u001b[39;00m\n\u001b[1;32m    173\u001b[0m \u001b[38;5;66;03m# self.check_type(casted, node, key)\u001b[39;00m\n",
      "\u001b[0;31mParseError\u001b[0m: Error calling cast function \"StorageAttributes\" for value \"{'width': 256, 'block_size': 32, 'word_bits': 8, 'datawidth': 8}\" in Storage(MainMemory)[attributes]. \n\n'Missing required key \"depth\" in StorageAttributes={\\'entries\\': REQUIRED, \\'sizeKB\\': REQUIRED, \\'reducti.... Required keys not found: depth. Found keys: width, block_size, word_bits, datawidth, has_power_gating, power_gated_at, technology, n_banks, cluster_size.'. 'Missing required key \"depth\" in StorageAttributes={\\'entries\\': REQUIRED, \\'sizeKB\\': REQUIRED, \\'reducti.... Required keys not found: depth. Found keys: width, block_size, word_bits, datawidth, has_power_gating, power_gated_at, technology, n_banks, cluster_size.'",
      "\nThe above exception was the direct cause of the following exception:\n",
      "\u001b[0;31mParseError\u001b[0m                                Traceback (most recent call last)",
      "File \u001b[0;32m/usr/local/lib/python3.10/dist-packages/pytimeloop/timeloopfe/common/nodes.py:134\u001b[0m, in \u001b[0;36mTypeSpecifier.cast_check_type\u001b[0;34m(self, value, node, key)\u001b[0m\n\u001b[1;32m    133\u001b[0m \u001b[38;5;28;01mtry\u001b[39;00m:\n\u001b[0;32m--> 134\u001b[0m     casted \u001b[38;5;241m=\u001b[39m \u001b[38;5;28;43mself\u001b[39;49m\u001b[38;5;241;43m.\u001b[39;49m\u001b[43mcast\u001b[49m\u001b[43m(\u001b[49m\u001b[43mvalue\u001b[49m\u001b[43m)\u001b[49m\n\u001b[1;32m    135\u001b[0m \u001b[38;5;28;01mexcept\u001b[39;00m \u001b[38;5;167;01mException\u001b[39;00m \u001b[38;5;28;01mas\u001b[39;00m exc:\n",
      "File \u001b[0;32m/usr/local/lib/python3.10/dist-packages/pytimeloop/timeloopfe/common/nodes.py:182\u001b[0m, in \u001b[0;36mTypeSpecifier.cast\u001b[0;34m(self, value, _TypeSpecifier__node_skip_parse)\u001b[0m\n\u001b[1;32m    181\u001b[0m     \u001b[38;5;28;01melse\u001b[39;00m:\n\u001b[0;32m--> 182\u001b[0m         value \u001b[38;5;241m=\u001b[39m \u001b[38;5;28;43mself\u001b[39;49m\u001b[38;5;241;43m.\u001b[39;49m\u001b[43mcallfunc\u001b[49m\u001b[43m(\u001b[49m\u001b[43mvalue\u001b[49m\u001b[43m)\u001b[49m\n\u001b[1;32m    183\u001b[0m \u001b[38;5;28;01mtry\u001b[39;00m:\n",
      "File \u001b[0;32m/usr/local/lib/python3.10/dist-packages/pytimeloop/timeloopfe/common/nodes.py:96\u001b[0m, in \u001b[0;36mTypeSpecifier.__init__.<locals>.callfunc\u001b[0;34m(x, _TypeSpecifier__node_skip_parse)\u001b[0m\n\u001b[1;32m     95\u001b[0m     \u001b[38;5;28;01mreturn\u001b[39;00m x\n\u001b[0;32m---> 96\u001b[0m \u001b[38;5;28;01mreturn\u001b[39;00m \u001b[43mrt\u001b[49m\u001b[43m(\u001b[49m\u001b[43mx\u001b[49m\u001b[43m,\u001b[49m\u001b[43m \u001b[49m\u001b[43m__node_skip_parse\u001b[49m\u001b[38;5;241;43m=\u001b[39;49m\u001b[43m__node_skip_parse\u001b[49m\u001b[43m)\u001b[49m\n",
      "File \u001b[0;32m/usr/local/lib/python3.10/dist-packages/pytimeloop/timeloopfe/v4/arch.py:116\u001b[0m, in \u001b[0;36mArchNodes.__init__\u001b[0;34m(self, *args, **kwargs)\u001b[0m\n\u001b[1;32m    115\u001b[0m \u001b[38;5;28;01mdef\u001b[39;00m\u001b[38;5;250m \u001b[39m\u001b[38;5;21m__init__\u001b[39m(\u001b[38;5;28mself\u001b[39m, \u001b[38;5;241m*\u001b[39margs, \u001b[38;5;241m*\u001b[39m\u001b[38;5;241m*\u001b[39mkwargs):\n\u001b[0;32m--> 116\u001b[0m     \u001b[38;5;28;43msuper\u001b[39;49m\u001b[43m(\u001b[49m\u001b[43m)\u001b[49m\u001b[38;5;241;43m.\u001b[39;49m\u001b[38;5;21;43m__init__\u001b[39;49m\u001b[43m(\u001b[49m\u001b[38;5;241;43m*\u001b[39;49m\u001b[43margs\u001b[49m\u001b[43m,\u001b[49m\u001b[43m \u001b[49m\u001b[38;5;241;43m*\u001b[39;49m\u001b[38;5;241;43m*\u001b[39;49m\u001b[43mkwargs\u001b[49m\u001b[43m)\u001b[49m\n",
      "File \u001b[0;32m/usr/local/lib/python3.10/dist-packages/pytimeloop/timeloopfe/v4/arch.py:33\u001b[0m, in \u001b[0;36mArchNode.__init__\u001b[0;34m(self, *args, **kwargs)\u001b[0m\n\u001b[1;32m     32\u001b[0m \u001b[38;5;28;01mdef\u001b[39;00m\u001b[38;5;250m \u001b[39m\u001b[38;5;21m__init__\u001b[39m(\u001b[38;5;28mself\u001b[39m, \u001b[38;5;241m*\u001b[39margs, \u001b[38;5;241m*\u001b[39m\u001b[38;5;241m*\u001b[39mkwargs):\n\u001b[0;32m---> 33\u001b[0m     \u001b[38;5;28;43msuper\u001b[39;49m\u001b[43m(\u001b[49m\u001b[43m)\u001b[49m\u001b[38;5;241;43m.\u001b[39;49m\u001b[38;5;21;43m__init__\u001b[39;49m\u001b[43m(\u001b[49m\u001b[38;5;241;43m*\u001b[39;49m\u001b[43margs\u001b[49m\u001b[43m,\u001b[49m\u001b[43m \u001b[49m\u001b[38;5;241;43m*\u001b[39;49m\u001b[38;5;241;43m*\u001b[39;49m\u001b[43mkwargs\u001b[49m\u001b[43m)\u001b[49m\n\u001b[1;32m     35\u001b[0m     \u001b[38;5;66;03m# Make sure all leaf names are unique\u001b[39;00m\n",
      "File \u001b[0;32m/usr/local/lib/python3.10/dist-packages/pytimeloop/timeloopfe/common/nodes.py:1159\u001b[0m, in \u001b[0;36mListNode.__init__\u001b[0;34m(self, *args, **kwargs)\u001b[0m\n\u001b[1;32m   1158\u001b[0m \u001b[38;5;28;01mif\u001b[39;00m \u001b[38;5;129;01mnot\u001b[39;00m __node_skip_parse:\n\u001b[0;32m-> 1159\u001b[0m     \u001b[38;5;28;43mself\u001b[39;49m\u001b[38;5;241;43m.\u001b[39;49m\u001b[43m_parse_elems\u001b[49m\u001b[43m(\u001b[49m\u001b[43m)\u001b[49m\n",
      "File \u001b[0;32m/usr/local/lib/python3.10/dist-packages/pytimeloop/timeloopfe/common/nodes.py:549\u001b[0m, in \u001b[0;36mNode._parse_elems\u001b[0;34m(self)\u001b[0m\n\u001b[1;32m    548\u001b[0m \u001b[38;5;28;01mfor\u001b[39;00m k, check \u001b[38;5;129;01min\u001b[39;00m \u001b[38;5;28mself\u001b[39m\u001b[38;5;241m.\u001b[39m_get_index2checker()\u001b[38;5;241m.\u001b[39mitems():\n\u001b[0;32m--> 549\u001b[0m     \u001b[38;5;28;43mself\u001b[39;49m\u001b[38;5;241;43m.\u001b[39;49m\u001b[43m_parse_elem\u001b[49m\u001b[43m(\u001b[49m\u001b[43mk\u001b[49m\u001b[43m,\u001b[49m\u001b[43m \u001b[49m\u001b[43mcheck\u001b[49m\u001b[43m)\u001b[49m\n",
      "File \u001b[0;32m/usr/local/lib/python3.10/dist-packages/pytimeloop/timeloopfe/common/nodes.py:526\u001b[0m, in \u001b[0;36mNode._parse_elem\u001b[0;34m(self, key, check, value_override)\u001b[0m\n\u001b[1;32m    525\u001b[0m \u001b[38;5;28;01mif\u001b[39;00m check \u001b[38;5;129;01mis\u001b[39;00m \u001b[38;5;129;01mnot\u001b[39;00m \u001b[38;5;28;01mNone\u001b[39;00m:\n\u001b[0;32m--> 526\u001b[0m     v \u001b[38;5;241m=\u001b[39m \u001b[43mcheck\u001b[49m\u001b[38;5;241;43m.\u001b[39;49m\u001b[43mcast_check_type\u001b[49m\u001b[43m(\u001b[49m\u001b[43mv\u001b[49m\u001b[43m,\u001b[49m\u001b[43m \u001b[49m\u001b[38;5;28;43mself\u001b[39;49m\u001b[43m,\u001b[49m\u001b[43m \u001b[49m\u001b[43mkey\u001b[49m\u001b[43m)\u001b[49m\n\u001b[1;32m    528\u001b[0m \u001b[38;5;28;01mif\u001b[39;00m \u001b[38;5;28misinstance\u001b[39m(v, Node):\n",
      "File \u001b[0;32m/usr/local/lib/python3.10/dist-packages/pytimeloop/timeloopfe/common/nodes.py:171\u001b[0m, in \u001b[0;36mTypeSpecifier.cast_check_type\u001b[0;34m(self, value, node, key)\u001b[0m\n\u001b[1;32m    170\u001b[0m     new_exc\u001b[38;5;241m.\u001b[39m_last_non_node_exception \u001b[38;5;241m=\u001b[39m last_non_node_exception\n\u001b[0;32m--> 171\u001b[0m     \u001b[38;5;28;01mraise\u001b[39;00m new_exc \u001b[38;5;28;01mfrom\u001b[39;00m\u001b[38;5;250m \u001b[39m\u001b[38;5;21;01mexc\u001b[39;00m\n\u001b[1;32m    173\u001b[0m \u001b[38;5;66;03m# self.check_type(casted, node, key)\u001b[39;00m\n",
      "\u001b[0;31mParseError\u001b[0m: Error calling cast function \"component_factory\" for value \"{'name': 'MainMemory', 'class': 'DRAM', 'attributes': {'width': 256, 'block_size': 32, 'word_bits': 8, 'datawidth': 8}, 'required_actions': ['read', 'write']}\" in ArchNodes[0]. \n\n'Missing required key \"depth\" in StorageAttributes={\\'entries\\': REQUIRED, \\'sizeKB\\': REQUIRED, \\'reducti.... Required keys not found: depth. Found keys: width, block_size, word_bits, datawidth, has_power_gating, power_gated_at, technology, n_banks, cluster_size.'. Error calling cast function \"StorageAttributes\" for value \"{'width': 256, 'block_size': 32, 'word_bits': 8, 'datawidth': 8}\" in Storage(MainMemory)[attributes]. \n\n'Missing required key \"depth\" in StorageAttributes={\\'entries\\': REQUIRED, \\'sizeKB\\': REQUIRED, \\'reducti.... Required keys not found: depth. Found keys: width, block_size, word_bits, datawidth, has_power_gating, power_gated_at, technology, n_banks, cluster_size.'. 'Missing required key \"depth\" in StorageAttributes={\\'entries\\': REQUIRED, \\'sizeKB\\': REQUIRED, \\'reducti.... Required keys not found: depth. Found keys: width, block_size, word_bits, datawidth, has_power_gating, power_gated_at, technology, n_banks, cluster_size.'",
      "\nThe above exception was the direct cause of the following exception:\n",
      "\u001b[0;31mParseError\u001b[0m                                Traceback (most recent call last)",
      "File \u001b[0;32m/usr/local/lib/python3.10/dist-packages/pytimeloop/timeloopfe/common/nodes.py:134\u001b[0m, in \u001b[0;36mTypeSpecifier.cast_check_type\u001b[0;34m(self, value, node, key)\u001b[0m\n\u001b[1;32m    133\u001b[0m \u001b[38;5;28;01mtry\u001b[39;00m:\n\u001b[0;32m--> 134\u001b[0m     casted \u001b[38;5;241m=\u001b[39m \u001b[38;5;28;43mself\u001b[39;49m\u001b[38;5;241;43m.\u001b[39;49m\u001b[43mcast\u001b[49m\u001b[43m(\u001b[49m\u001b[43mvalue\u001b[49m\u001b[43m)\u001b[49m\n\u001b[1;32m    135\u001b[0m \u001b[38;5;28;01mexcept\u001b[39;00m \u001b[38;5;167;01mException\u001b[39;00m \u001b[38;5;28;01mas\u001b[39;00m exc:\n",
      "File \u001b[0;32m/usr/local/lib/python3.10/dist-packages/pytimeloop/timeloopfe/common/nodes.py:182\u001b[0m, in \u001b[0;36mTypeSpecifier.cast\u001b[0;34m(self, value, _TypeSpecifier__node_skip_parse)\u001b[0m\n\u001b[1;32m    181\u001b[0m     \u001b[38;5;28;01melse\u001b[39;00m:\n\u001b[0;32m--> 182\u001b[0m         value \u001b[38;5;241m=\u001b[39m \u001b[38;5;28;43mself\u001b[39;49m\u001b[38;5;241;43m.\u001b[39;49m\u001b[43mcallfunc\u001b[49m\u001b[43m(\u001b[49m\u001b[43mvalue\u001b[49m\u001b[43m)\u001b[49m\n\u001b[1;32m    183\u001b[0m \u001b[38;5;28;01mtry\u001b[39;00m:\n",
      "File \u001b[0;32m/usr/local/lib/python3.10/dist-packages/pytimeloop/timeloopfe/common/nodes.py:96\u001b[0m, in \u001b[0;36mTypeSpecifier.__init__.<locals>.callfunc\u001b[0;34m(x, _TypeSpecifier__node_skip_parse)\u001b[0m\n\u001b[1;32m     95\u001b[0m     \u001b[38;5;28;01mreturn\u001b[39;00m x\n\u001b[0;32m---> 96\u001b[0m \u001b[38;5;28;01mreturn\u001b[39;00m \u001b[43mrt\u001b[49m\u001b[43m(\u001b[49m\u001b[43mx\u001b[49m\u001b[43m,\u001b[49m\u001b[43m \u001b[49m\u001b[43m__node_skip_parse\u001b[49m\u001b[38;5;241;43m=\u001b[39;49m\u001b[43m__node_skip_parse\u001b[49m\u001b[43m)\u001b[49m\n",
      "File \u001b[0;32m/usr/local/lib/python3.10/dist-packages/pytimeloop/timeloopfe/v4/arch.py:235\u001b[0m, in \u001b[0;36mArchitecture.__init__\u001b[0;34m(self, *args, **kwargs)\u001b[0m\n\u001b[1;32m    234\u001b[0m \u001b[38;5;28;01mdef\u001b[39;00m\u001b[38;5;250m \u001b[39m\u001b[38;5;21m__init__\u001b[39m(\u001b[38;5;28mself\u001b[39m, \u001b[38;5;241m*\u001b[39margs, \u001b[38;5;241m*\u001b[39m\u001b[38;5;241m*\u001b[39mkwargs):\n\u001b[0;32m--> 235\u001b[0m     \u001b[38;5;28;43msuper\u001b[39;49m\u001b[43m(\u001b[49m\u001b[43m)\u001b[49m\u001b[38;5;241;43m.\u001b[39;49m\u001b[38;5;21;43m__init__\u001b[39;49m\u001b[43m(\u001b[49m\u001b[38;5;241;43m*\u001b[39;49m\u001b[43margs\u001b[49m\u001b[43m,\u001b[49m\u001b[43m \u001b[49m\u001b[38;5;241;43m*\u001b[39;49m\u001b[38;5;241;43m*\u001b[39;49m\u001b[43mkwargs\u001b[49m\u001b[43m)\u001b[49m\n\u001b[1;32m    236\u001b[0m     \u001b[38;5;28mself\u001b[39m\u001b[38;5;241m.\u001b[39mversion: Union[\u001b[38;5;28mstr\u001b[39m, Number] \u001b[38;5;241m=\u001b[39m \u001b[38;5;28mself\u001b[39m[\u001b[38;5;124m\"\u001b[39m\u001b[38;5;124mversion\u001b[39m\u001b[38;5;124m\"\u001b[39m]\n",
      "File \u001b[0;32m/usr/local/lib/python3.10/dist-packages/pytimeloop/timeloopfe/v4/arch.py:184\u001b[0m, in \u001b[0;36mBranch.__init__\u001b[0;34m(self, *args, **kwargs)\u001b[0m\n\u001b[1;32m    183\u001b[0m \u001b[38;5;28;01mdef\u001b[39;00m\u001b[38;5;250m \u001b[39m\u001b[38;5;21m__init__\u001b[39m(\u001b[38;5;28mself\u001b[39m, \u001b[38;5;241m*\u001b[39margs, \u001b[38;5;241m*\u001b[39m\u001b[38;5;241m*\u001b[39mkwargs):\n\u001b[0;32m--> 184\u001b[0m     \u001b[38;5;28;43msuper\u001b[39;49m\u001b[43m(\u001b[49m\u001b[43m)\u001b[49m\u001b[38;5;241;43m.\u001b[39;49m\u001b[38;5;21;43m__init__\u001b[39;49m\u001b[43m(\u001b[49m\u001b[38;5;241;43m*\u001b[39;49m\u001b[43margs\u001b[49m\u001b[43m,\u001b[49m\u001b[43m \u001b[49m\u001b[38;5;241;43m*\u001b[39;49m\u001b[38;5;241;43m*\u001b[39;49m\u001b[43mkwargs\u001b[49m\u001b[43m)\u001b[49m\n\u001b[1;32m    185\u001b[0m     \u001b[38;5;28mself\u001b[39m\u001b[38;5;241m.\u001b[39mnodes: ArchNodes \u001b[38;5;241m=\u001b[39m \u001b[38;5;28mself\u001b[39m[\u001b[38;5;124m\"\u001b[39m\u001b[38;5;124mnodes\u001b[39m\u001b[38;5;124m\"\u001b[39m]\n",
      "File \u001b[0;32m/usr/local/lib/python3.10/dist-packages/pytimeloop/timeloopfe/v4/arch.py:33\u001b[0m, in \u001b[0;36mArchNode.__init__\u001b[0;34m(self, *args, **kwargs)\u001b[0m\n\u001b[1;32m     32\u001b[0m \u001b[38;5;28;01mdef\u001b[39;00m\u001b[38;5;250m \u001b[39m\u001b[38;5;21m__init__\u001b[39m(\u001b[38;5;28mself\u001b[39m, \u001b[38;5;241m*\u001b[39margs, \u001b[38;5;241m*\u001b[39m\u001b[38;5;241m*\u001b[39mkwargs):\n\u001b[0;32m---> 33\u001b[0m     \u001b[38;5;28;43msuper\u001b[39;49m\u001b[43m(\u001b[49m\u001b[43m)\u001b[49m\u001b[38;5;241;43m.\u001b[39;49m\u001b[38;5;21;43m__init__\u001b[39;49m\u001b[43m(\u001b[49m\u001b[38;5;241;43m*\u001b[39;49m\u001b[43margs\u001b[49m\u001b[43m,\u001b[49m\u001b[43m \u001b[49m\u001b[38;5;241;43m*\u001b[39;49m\u001b[38;5;241;43m*\u001b[39;49m\u001b[43mkwargs\u001b[49m\u001b[43m)\u001b[49m\n\u001b[1;32m     35\u001b[0m     \u001b[38;5;66;03m# Make sure all leaf names are unique\u001b[39;00m\n",
      "File \u001b[0;32m/usr/local/lib/python3.10/dist-packages/pytimeloop/timeloopfe/common/nodes.py:1221\u001b[0m, in \u001b[0;36mDictNode.__init__\u001b[0;34m(self, _DictNode__node_skip_parse, *args, **kwargs)\u001b[0m\n\u001b[1;32m   1220\u001b[0m \u001b[38;5;28;01mif\u001b[39;00m \u001b[38;5;129;01mnot\u001b[39;00m __node_skip_parse:\n\u001b[0;32m-> 1221\u001b[0m     \u001b[38;5;28;43mself\u001b[39;49m\u001b[38;5;241;43m.\u001b[39;49m\u001b[43m_parse_elems\u001b[49m\u001b[43m(\u001b[49m\u001b[43m)\u001b[49m\n",
      "File \u001b[0;32m/usr/local/lib/python3.10/dist-packages/pytimeloop/timeloopfe/common/nodes.py:549\u001b[0m, in \u001b[0;36mNode._parse_elems\u001b[0;34m(self)\u001b[0m\n\u001b[1;32m    548\u001b[0m \u001b[38;5;28;01mfor\u001b[39;00m k, check \u001b[38;5;129;01min\u001b[39;00m \u001b[38;5;28mself\u001b[39m\u001b[38;5;241m.\u001b[39m_get_index2checker()\u001b[38;5;241m.\u001b[39mitems():\n\u001b[0;32m--> 549\u001b[0m     \u001b[38;5;28;43mself\u001b[39;49m\u001b[38;5;241;43m.\u001b[39;49m\u001b[43m_parse_elem\u001b[49m\u001b[43m(\u001b[49m\u001b[43mk\u001b[49m\u001b[43m,\u001b[49m\u001b[43m \u001b[49m\u001b[43mcheck\u001b[49m\u001b[43m)\u001b[49m\n",
      "File \u001b[0;32m/usr/local/lib/python3.10/dist-packages/pytimeloop/timeloopfe/common/nodes.py:526\u001b[0m, in \u001b[0;36mNode._parse_elem\u001b[0;34m(self, key, check, value_override)\u001b[0m\n\u001b[1;32m    525\u001b[0m \u001b[38;5;28;01mif\u001b[39;00m check \u001b[38;5;129;01mis\u001b[39;00m \u001b[38;5;129;01mnot\u001b[39;00m \u001b[38;5;28;01mNone\u001b[39;00m:\n\u001b[0;32m--> 526\u001b[0m     v \u001b[38;5;241m=\u001b[39m \u001b[43mcheck\u001b[49m\u001b[38;5;241;43m.\u001b[39;49m\u001b[43mcast_check_type\u001b[49m\u001b[43m(\u001b[49m\u001b[43mv\u001b[49m\u001b[43m,\u001b[49m\u001b[43m \u001b[49m\u001b[38;5;28;43mself\u001b[39;49m\u001b[43m,\u001b[49m\u001b[43m \u001b[49m\u001b[43mkey\u001b[49m\u001b[43m)\u001b[49m\n\u001b[1;32m    528\u001b[0m \u001b[38;5;28;01mif\u001b[39;00m \u001b[38;5;28misinstance\u001b[39m(v, Node):\n",
      "File \u001b[0;32m/usr/local/lib/python3.10/dist-packages/pytimeloop/timeloopfe/common/nodes.py:171\u001b[0m, in \u001b[0;36mTypeSpecifier.cast_check_type\u001b[0;34m(self, value, node, key)\u001b[0m\n\u001b[1;32m    170\u001b[0m     new_exc\u001b[38;5;241m.\u001b[39m_last_non_node_exception \u001b[38;5;241m=\u001b[39m last_non_node_exception\n\u001b[0;32m--> 171\u001b[0m     \u001b[38;5;28;01mraise\u001b[39;00m new_exc \u001b[38;5;28;01mfrom\u001b[39;00m\u001b[38;5;250m \u001b[39m\u001b[38;5;21;01mexc\u001b[39;00m\n\u001b[1;32m    173\u001b[0m \u001b[38;5;66;03m# self.check_type(casted, node, key)\u001b[39;00m\n",
      "\u001b[0;31mParseError\u001b[0m: Error calling cast function \"ArchNodes\" for value \"[{'name': 'MainMemory', 'class': 'DRAM', 'attributes': {'width': 256, 'block_size': 32, 'word_bits': 8, 'datawidth': 8}, 'required_actions': ['read', 'write']}, {'name': 'IntermediateBuffer', 'class': 'SRAM', 'attributes': {'depth': 8192, 'width': 256, 'block_size': 32, 'word_bits': 8, 'datawidth': 8}, 'required_actions': ['read', 'write']}, {'name': 'nnEngine', 'spatial': {'meshX': 4, 'meshY': 4}, 'attributes': {'depth': 16, 'width': 16, 'datawidth': 8}}, {'name': 'PE', 'spatial': {'meshX': 8, 'meshY': 8}, 'attributes': {'depth': 8, 'width': 8, 'datawidth': 8}}, {'name': 'scratchpad', 'class': 'smart_storage', 'attributes': {'depth': 128, 'datawidth': 8, 'width': 8}}, {'name': 'input_reg', 'class': 'regfile', 'attributes': {'depth': 16, 'datawidth': 8, 'width': 8}, 'constraints': {'dataspace': {'keep': ['Input', 'OutputVector1', 'OutputVector2', 'OutputVector3'], 'bypass': ['Matrix_1', 'Matrix_2', 'Matrix_3', 'Matrix_4', 'OutputVector4']}}, 'required_actions': ['read', 'write', 'compute']}, {'name': 'output_reg', 'class': 'regfile', 'attributes': {'depth': 16, 'width': 16, 'datawidth': 8}, 'constraints': {'dataspace': {'keep': ['OutputVector1', 'OutputVector2', 'OutputVector3', 'OutputVector4'], 'bypass': ['Matrix_1', 'Matrix_2', 'Matrix_3', 'Matrix_4', 'Input']}}, 'required_actions': ['read', 'write', 'compute']}, {'name': 'weights_reg', 'class': 'regfile', 'attributes': {'depth': 16, 'width': 16, 'datawidth': 8}, 'constraints': {'dataspace': {'keep': ['Matrix_1', 'Matrix_2', 'Matrix_3', 'Matrix_4'], 'bypass': ['Input', 'OutputVector1', 'OutputVector2', 'OutputVector3', 'OutputVector4']}}, 'required_actions': ['read', 'write', 'compute']}, {'name': 'MACC', 'class': 'intmac', 'attributes': {'datawidth': 8, 'width': 8, 'cycle_time': 1e-09}, 'required_actions': ['compute']}]\" in Architecture[nodes]. \n\n'Missing required key \"depth\" in StorageAttributes={\\'entries\\': REQUIRED, \\'sizeKB\\': REQUIRED, \\'reducti.... Required keys not found: depth. Found keys: width, block_size, word_bits, datawidth, has_power_gating, power_gated_at, technology, n_banks, cluster_size.'. Error calling cast function \"component_factory\" for value \"{'name': 'MainMemory', 'class': 'DRAM', 'attributes': {'width': 256, 'block_size': 32, 'word_bits': 8, 'datawidth': 8}, 'required_actions': ['read', 'write']}\" in ArchNodes[0]. \n\n'Missing required key \"depth\" in StorageAttributes={\\'entries\\': REQUIRED, \\'sizeKB\\': REQUIRED, \\'reducti.... Required keys not found: depth. Found keys: width, block_size, word_bits, datawidth, has_power_gating, power_gated_at, technology, n_banks, cluster_size.'. Error calling cast function \"StorageAttributes\" for value \"{'width': 256, 'block_size': 32, 'word_bits': 8, 'datawidth': 8}\" in Storage(MainMemory)[attributes]. \n\n'Missing required key \"depth\" in StorageAttributes={\\'entries\\': REQUIRED, \\'sizeKB\\': REQUIRED, \\'reducti.... Required keys not found: depth. Found keys: width, block_size, word_bits, datawidth, has_power_gating, power_gated_at, technology, n_banks, cluster_size.'. 'Missing required key \"depth\" in StorageAttributes={\\'entries\\': REQUIRED, \\'sizeKB\\': REQUIRED, \\'reducti.... Required keys not found: depth. Found keys: width, block_size, word_bits, datawidth, has_power_gating, power_gated_at, technology, n_banks, cluster_size.'",
      "\nThe above exception was the direct cause of the following exception:\n",
      "\u001b[0;31mParseError\u001b[0m                                Traceback (most recent call last)",
      "Cell \u001b[0;32mIn[1], line 22\u001b[0m\n\u001b[1;32m      6\u001b[0m \u001b[38;5;66;03m# As previously mentioned, bindings map levels specified in the mapping\u001b[39;00m\n\u001b[1;32m      7\u001b[0m \u001b[38;5;66;03m# to the hardware units specified in the architecture spec.\u001b[39;00m\n\u001b[1;32m      8\u001b[0m bindings \u001b[38;5;241m=\u001b[39m {\n\u001b[1;32m      9\u001b[0m     \u001b[38;5;241m0\u001b[39m: \u001b[38;5;124m'\u001b[39m\u001b[38;5;124mMainMemory\u001b[39m\u001b[38;5;124m'\u001b[39m,\n\u001b[1;32m     10\u001b[0m     \u001b[38;5;241m1\u001b[39m: \u001b[38;5;124m'\u001b[39m\u001b[38;5;124mIntermediateBuffer\u001b[39m\u001b[38;5;124m'\u001b[39m,\n\u001b[0;32m   (...)\u001b[0m\n\u001b[1;32m     19\u001b[0m     \u001b[38;5;66;03m# 7: 'PE'\u001b[39;00m\n\u001b[1;32m     20\u001b[0m }\n\u001b[0;32m---> 22\u001b[0m stats \u001b[38;5;241m=\u001b[39m \u001b[43mrun_looptree\u001b[49m\u001b[43m(\u001b[49m\n\u001b[1;32m     23\u001b[0m \u001b[43m    \u001b[49m\u001b[43mCONFIG_DIR\u001b[49m\u001b[43m,\u001b[49m\n\u001b[1;32m     24\u001b[0m \u001b[43m    \u001b[49m\u001b[38;5;66;43;03m# ['architecture.yaml', 'two_fc.workload.yaml', 'layer-by-layer.mapping.yaml'],\u001b[39;49;00m\n\u001b[1;32m     25\u001b[0m \u001b[43m    \u001b[49m\u001b[43m[\u001b[49m\u001b[38;5;124;43m'\u001b[39;49m\u001b[38;5;124;43marchitecture.yaml\u001b[39;49m\u001b[38;5;124;43m'\u001b[39;49m\u001b[43m,\u001b[49m\u001b[43m \u001b[49m\u001b[38;5;124;43m'\u001b[39;49m\u001b[38;5;124;43mconv_workload.yaml\u001b[39;49m\u001b[38;5;124;43m'\u001b[39;49m\u001b[43m,\u001b[49m\u001b[38;5;124;43m'\u001b[39;49m\u001b[38;5;124;43mconv_mapping.yaml\u001b[39;49m\u001b[38;5;124;43m'\u001b[39;49m\u001b[43m]\u001b[49m\u001b[43m,\u001b[49m\n\u001b[1;32m     26\u001b[0m \u001b[43m    \u001b[49m\u001b[43mTMP_DIR\u001b[49m\u001b[43m,\u001b[49m\n\u001b[1;32m     27\u001b[0m \u001b[43m    \u001b[49m\u001b[43mbindings\u001b[49m\u001b[43m,\u001b[49m\n\u001b[1;32m     28\u001b[0m \u001b[43m    \u001b[49m\u001b[43mcall_accelergy\u001b[49m\u001b[38;5;241;43m=\u001b[39;49m\u001b[38;5;28;43;01mTrue\u001b[39;49;00m\n\u001b[1;32m     29\u001b[0m \u001b[43m)\u001b[49m\n",
      "File \u001b[0;32m/usr/local/lib/python3.10/dist-packages/pytimeloop/looptree/run.py:36\u001b[0m, in \u001b[0;36mrun_looptree\u001b[0;34m(config_dir, paths, tmp_path, bindings, call_accelergy)\u001b[0m\n\u001b[1;32m     32\u001b[0m model \u001b[38;5;241m=\u001b[39m LooptreeModelApp(config)\n\u001b[1;32m     34\u001b[0m workload \u001b[38;5;241m=\u001b[39m LooptreeWorkload\u001b[38;5;241m.\u001b[39mparse_cfg(config\u001b[38;5;241m.\u001b[39mroot[\u001b[38;5;124m'\u001b[39m\u001b[38;5;124mproblem\u001b[39m\u001b[38;5;124m'\u001b[39m])\n\u001b[0;32m---> 36\u001b[0m spec \u001b[38;5;241m=\u001b[39m \u001b[43mSpecification\u001b[49m\u001b[38;5;241;43m.\u001b[39;49m\u001b[43mfrom_yaml_files\u001b[49m\u001b[43m(\u001b[49m\u001b[43m[\u001b[49m\n\u001b[1;32m     37\u001b[0m \u001b[43m    \u001b[49m\u001b[38;5;28;43mstr\u001b[39;49m\u001b[43m(\u001b[49m\u001b[43mconfig_dir\u001b[49m\u001b[43m \u001b[49m\u001b[38;5;241;43m/\u001b[39;49m\u001b[43m \u001b[49m\u001b[43mp\u001b[49m\u001b[43m)\u001b[49m\u001b[43m \u001b[49m\u001b[38;5;28;43;01mfor\u001b[39;49;00m\u001b[43m \u001b[49m\u001b[43mp\u001b[49m\u001b[43m \u001b[49m\u001b[38;5;129;43;01min\u001b[39;49;00m\u001b[43m \u001b[49m\u001b[43mpaths\u001b[49m\n\u001b[1;32m     38\u001b[0m \u001b[43m\u001b[49m\u001b[43m]\u001b[49m\u001b[43m)\u001b[49m\n\u001b[1;32m     40\u001b[0m \u001b[38;5;28;01mif\u001b[39;00m call_accelergy:\n\u001b[1;32m     41\u001b[0m     \u001b[38;5;28;01mif\u001b[39;00m \u001b[38;5;28misinstance\u001b[39m(tmp_path, Path):\n",
      "File \u001b[0;32m/usr/local/lib/python3.10/dist-packages/pytimeloop/timeloopfe/common/base_specification.py:179\u001b[0m, in \u001b[0;36mBaseSpecification.from_yaml_files\u001b[0;34m(cls, *args, **kwargs)\u001b[0m\n\u001b[1;32m    167\u001b[0m \u001b[38;5;129m@classmethod\u001b[39m\n\u001b[1;32m    168\u001b[0m \u001b[38;5;28;01mdef\u001b[39;00m\u001b[38;5;250m \u001b[39m\u001b[38;5;21mfrom_yaml_files\u001b[39m(\u001b[38;5;28mcls\u001b[39m, \u001b[38;5;241m*\u001b[39margs, \u001b[38;5;241m*\u001b[39m\u001b[38;5;241m*\u001b[39mkwargs) \u001b[38;5;241m-\u001b[39m\u001b[38;5;241m>\u001b[39m \u001b[38;5;124m\"\u001b[39m\u001b[38;5;124mSpecification\u001b[39m\u001b[38;5;124m\"\u001b[39m:\n\u001b[1;32m    169\u001b[0m \u001b[38;5;250m    \u001b[39m\u001b[38;5;124;03m\"\"\"\u001b[39;00m\n\u001b[1;32m    170\u001b[0m \u001b[38;5;124;03m    Create a Specification object from YAML files.\u001b[39;00m\n\u001b[1;32m    171\u001b[0m \n\u001b[0;32m   (...)\u001b[0m\n\u001b[1;32m    177\u001b[0m \u001b[38;5;124;03m        Specification: The created Specification object.\u001b[39;00m\n\u001b[1;32m    178\u001b[0m \u001b[38;5;124;03m    \"\"\"\u001b[39;00m\n\u001b[0;32m--> 179\u001b[0m     \u001b[38;5;28;01mreturn\u001b[39;00m \u001b[38;5;28;43msuper\u001b[39;49m\u001b[43m(\u001b[49m\u001b[43m)\u001b[49m\u001b[38;5;241;43m.\u001b[39;49m\u001b[43mfrom_yaml_files\u001b[49m\u001b[43m(\u001b[49m\u001b[38;5;241;43m*\u001b[39;49m\u001b[43margs\u001b[49m\u001b[43m,\u001b[49m\u001b[43m \u001b[49m\u001b[38;5;241;43m*\u001b[39;49m\u001b[38;5;241;43m*\u001b[39;49m\u001b[43mkwargs\u001b[49m\u001b[43m)\u001b[49m\n",
      "File \u001b[0;32m/usr/local/lib/python3.10/dist-packages/pytimeloop/timeloopfe/common/nodes.py:1356\u001b[0m, in \u001b[0;36mDictNode.from_yaml_files\u001b[0;34m(cls, jinja_parse_data, *files, **kwargs)\u001b[0m\n\u001b[1;32m   1353\u001b[0m             key2file[k] \u001b[38;5;241m=\u001b[39m f\n\u001b[1;32m   1354\u001b[0m             rval[k] \u001b[38;5;241m=\u001b[39m v\n\u001b[0;32m-> 1356\u001b[0m c \u001b[38;5;241m=\u001b[39m \u001b[38;5;28;43mcls\u001b[39;49m\u001b[43m(\u001b[49m\u001b[38;5;241;43m*\u001b[39;49m\u001b[38;5;241;43m*\u001b[39;49m\u001b[43mrval\u001b[49m\u001b[43m,\u001b[49m\u001b[43m \u001b[49m\u001b[38;5;241;43m*\u001b[39;49m\u001b[38;5;241;43m*\u001b[39;49m\u001b[43mkwargs\u001b[49m\u001b[43m)\u001b[49m\n\u001b[1;32m   1357\u001b[0m logging\u001b[38;5;241m.\u001b[39minfo(\n\u001b[1;32m   1358\u001b[0m     \u001b[38;5;124m\"\u001b[39m\u001b[38;5;124mParsing extra attributes \u001b[39m\u001b[38;5;132;01m%s\u001b[39;00m\u001b[38;5;124m\"\u001b[39m, \u001b[38;5;124m\"\u001b[39m\u001b[38;5;124m, \u001b[39m\u001b[38;5;124m\"\u001b[39m\u001b[38;5;241m.\u001b[39mjoin([x[\u001b[38;5;241m0\u001b[39m] \u001b[38;5;28;01mfor\u001b[39;00m x \u001b[38;5;129;01min\u001b[39;00m extra_elems])\n\u001b[1;32m   1359\u001b[0m )\n\u001b[1;32m   1360\u001b[0m c\u001b[38;5;241m.\u001b[39m_parse_extra_elems(extra_elems)\n",
      "File \u001b[0;32m/usr/local/lib/python3.10/dist-packages/pytimeloop/timeloopfe/v4fused/specification.py:61\u001b[0m, in \u001b[0;36mSpecification.__init__\u001b[0;34m(self, *args, **kwargs)\u001b[0m\n\u001b[1;32m     59\u001b[0m \u001b[38;5;28;01mdef\u001b[39;00m\u001b[38;5;250m \u001b[39m\u001b[38;5;21m__init__\u001b[39m(\u001b[38;5;28mself\u001b[39m, \u001b[38;5;241m*\u001b[39margs, \u001b[38;5;241m*\u001b[39m\u001b[38;5;241m*\u001b[39mkwargs):\n\u001b[1;32m     60\u001b[0m     kwargs[\u001b[38;5;124m\"\u001b[39m\u001b[38;5;124m_required_processors\u001b[39m\u001b[38;5;124m\"\u001b[39m] \u001b[38;5;241m=\u001b[39m []\n\u001b[0;32m---> 61\u001b[0m     \u001b[38;5;28;43msuper\u001b[39;49m\u001b[43m(\u001b[49m\u001b[43m)\u001b[49m\u001b[38;5;241;43m.\u001b[39;49m\u001b[38;5;21;43m__init__\u001b[39;49m\u001b[43m(\u001b[49m\u001b[38;5;241;43m*\u001b[39;49m\u001b[43margs\u001b[49m\u001b[43m,\u001b[49m\u001b[43m \u001b[49m\u001b[38;5;241;43m*\u001b[39;49m\u001b[38;5;241;43m*\u001b[39;49m\u001b[43mkwargs\u001b[49m\u001b[43m)\u001b[49m\n\u001b[1;32m     62\u001b[0m     \u001b[38;5;28mself\u001b[39m\u001b[38;5;241m.\u001b[39marchitecture \u001b[38;5;241m=\u001b[39m \u001b[38;5;28mself\u001b[39m[\u001b[38;5;124m\"\u001b[39m\u001b[38;5;124marchitecture\u001b[39m\u001b[38;5;124m\"\u001b[39m]\n\u001b[1;32m     63\u001b[0m     \u001b[38;5;28mself\u001b[39m\u001b[38;5;241m.\u001b[39mmapping \u001b[38;5;241m=\u001b[39m \u001b[38;5;28mself\u001b[39m[\u001b[38;5;124m\"\u001b[39m\u001b[38;5;124mmapping\u001b[39m\u001b[38;5;124m\"\u001b[39m]\n",
      "File \u001b[0;32m/usr/local/lib/python3.10/dist-packages/pytimeloop/timeloopfe/common/base_specification.py:71\u001b[0m, in \u001b[0;36mBaseSpecification.__init__\u001b[0;34m(self, *args, **kwargs)\u001b[0m\n\u001b[1;32m     67\u001b[0m \u001b[38;5;28mself\u001b[39m\u001b[38;5;241m.\u001b[39mspec \u001b[38;5;241m=\u001b[39m \u001b[38;5;28mself\u001b[39m\n\u001b[1;32m     69\u001b[0m \u001b[38;5;28mself\u001b[39m\u001b[38;5;241m.\u001b[39m_early_init_processors(\u001b[38;5;241m*\u001b[39m\u001b[38;5;241m*\u001b[39mkwargs)  \u001b[38;5;66;03m# Because processors define declare_attrs\u001b[39;00m\n\u001b[0;32m---> 71\u001b[0m \u001b[38;5;28;43msuper\u001b[39;49m\u001b[43m(\u001b[49m\u001b[43m)\u001b[49m\u001b[38;5;241;43m.\u001b[39;49m\u001b[38;5;21;43m__init__\u001b[39;49m\u001b[43m(\u001b[49m\u001b[38;5;241;43m*\u001b[39;49m\u001b[43margs\u001b[49m\u001b[43m,\u001b[49m\u001b[43m \u001b[49m\u001b[38;5;241;43m*\u001b[39;49m\u001b[38;5;241;43m*\u001b[39;49m\u001b[43mkwargs\u001b[49m\u001b[43m)\u001b[49m\n\u001b[1;32m     73\u001b[0m \u001b[38;5;28mself\u001b[39m\u001b[38;5;241m.\u001b[39mprocessors: ListNode[Processor] \u001b[38;5;241m=\u001b[39m \u001b[38;5;28mself\u001b[39m[\u001b[38;5;124m\"\u001b[39m\u001b[38;5;124mprocessors\u001b[39m\u001b[38;5;124m\"\u001b[39m]\n\u001b[1;32m     74\u001b[0m \u001b[38;5;28mself\u001b[39m\u001b[38;5;241m.\u001b[39m_required_processors: ListNode[Processor] \u001b[38;5;241m=\u001b[39m \u001b[38;5;28mself\u001b[39m[\u001b[38;5;124m\"\u001b[39m\u001b[38;5;124m_required_processors\u001b[39m\u001b[38;5;124m\"\u001b[39m]\n",
      "File \u001b[0;32m/usr/local/lib/python3.10/dist-packages/pytimeloop/timeloopfe/common/nodes.py:1221\u001b[0m, in \u001b[0;36mDictNode.__init__\u001b[0;34m(self, _DictNode__node_skip_parse, *args, **kwargs)\u001b[0m\n\u001b[1;32m   1219\u001b[0m         \u001b[38;5;28mself\u001b[39m[k] \u001b[38;5;241m=\u001b[39m default_unspecified_\n\u001b[1;32m   1220\u001b[0m \u001b[38;5;28;01mif\u001b[39;00m \u001b[38;5;129;01mnot\u001b[39;00m __node_skip_parse:\n\u001b[0;32m-> 1221\u001b[0m     \u001b[38;5;28;43mself\u001b[39;49m\u001b[38;5;241;43m.\u001b[39;49m\u001b[43m_parse_elems\u001b[49m\u001b[43m(\u001b[49m\u001b[43m)\u001b[49m\n",
      "File \u001b[0;32m/usr/local/lib/python3.10/dist-packages/pytimeloop/timeloopfe/common/nodes.py:549\u001b[0m, in \u001b[0;36mNode._parse_elems\u001b[0;34m(self)\u001b[0m\n\u001b[1;32m    547\u001b[0m \u001b[38;5;28mself\u001b[39m\u001b[38;5;241m.\u001b[39mspec \u001b[38;5;241m=\u001b[39m parent\u001b[38;5;241m.\u001b[39mspec \u001b[38;5;28;01mif\u001b[39;00m parent \u001b[38;5;129;01mis\u001b[39;00m \u001b[38;5;129;01mnot\u001b[39;00m \u001b[38;5;28;01mNone\u001b[39;00m \u001b[38;5;28;01melse\u001b[39;00m Node\u001b[38;5;241m.\u001b[39mget_global_spec()\n\u001b[1;32m    548\u001b[0m \u001b[38;5;28;01mfor\u001b[39;00m k, check \u001b[38;5;129;01min\u001b[39;00m \u001b[38;5;28mself\u001b[39m\u001b[38;5;241m.\u001b[39m_get_index2checker()\u001b[38;5;241m.\u001b[39mitems():\n\u001b[0;32m--> 549\u001b[0m     \u001b[38;5;28;43mself\u001b[39;49m\u001b[38;5;241;43m.\u001b[39;49m\u001b[43m_parse_elem\u001b[49m\u001b[43m(\u001b[49m\u001b[43mk\u001b[49m\u001b[43m,\u001b[49m\u001b[43m \u001b[49m\u001b[43mcheck\u001b[49m\u001b[43m)\u001b[49m\n",
      "File \u001b[0;32m/usr/local/lib/python3.10/dist-packages/pytimeloop/timeloopfe/common/nodes.py:526\u001b[0m, in \u001b[0;36mNode._parse_elem\u001b[0;34m(self, key, check, value_override)\u001b[0m\n\u001b[1;32m    524\u001b[0m tag \u001b[38;5;241m=\u001b[39m Node\u001b[38;5;241m.\u001b[39m_get_tag(v)\n\u001b[1;32m    525\u001b[0m \u001b[38;5;28;01mif\u001b[39;00m check \u001b[38;5;129;01mis\u001b[39;00m \u001b[38;5;129;01mnot\u001b[39;00m \u001b[38;5;28;01mNone\u001b[39;00m:\n\u001b[0;32m--> 526\u001b[0m     v \u001b[38;5;241m=\u001b[39m \u001b[43mcheck\u001b[49m\u001b[38;5;241;43m.\u001b[39;49m\u001b[43mcast_check_type\u001b[49m\u001b[43m(\u001b[49m\u001b[43mv\u001b[49m\u001b[43m,\u001b[49m\u001b[43m \u001b[49m\u001b[38;5;28;43mself\u001b[39;49m\u001b[43m,\u001b[49m\u001b[43m \u001b[49m\u001b[43mkey\u001b[49m\u001b[43m)\u001b[49m\n\u001b[1;32m    528\u001b[0m \u001b[38;5;28;01mif\u001b[39;00m \u001b[38;5;28misinstance\u001b[39m(v, Node):\n\u001b[1;32m    529\u001b[0m     v\u001b[38;5;241m.\u001b[39mtag \u001b[38;5;241m=\u001b[39m tag\n",
      "File \u001b[0;32m/usr/local/lib/python3.10/dist-packages/pytimeloop/timeloopfe/common/nodes.py:171\u001b[0m, in \u001b[0;36mTypeSpecifier.cast_check_type\u001b[0;34m(self, value, node, key)\u001b[0m\n\u001b[1;32m    165\u001b[0m     new_exc \u001b[38;5;241m=\u001b[39m ParseError(\n\u001b[1;32m    166\u001b[0m         \u001b[38;5;124mf\u001b[39m\u001b[38;5;124m'\u001b[39m\u001b[38;5;124mError calling cast function \u001b[39m\u001b[38;5;124m\"\u001b[39m\u001b[38;5;132;01m{\u001b[39;00mcallname\u001b[38;5;132;01m}\u001b[39;00m\u001b[38;5;124m\"\u001b[39m\u001b[38;5;124m \u001b[39m\u001b[38;5;124m'\u001b[39m\n\u001b[1;32m    167\u001b[0m         \u001b[38;5;124mf\u001b[39m\u001b[38;5;124m'\u001b[39m\u001b[38;5;124mfor value \u001b[39m\u001b[38;5;124m\"\u001b[39m\u001b[38;5;132;01m{\u001b[39;00mvalue\u001b[38;5;132;01m}\u001b[39;00m\u001b[38;5;124m\"\u001b[39m\u001b[38;5;124m in \u001b[39m\u001b[38;5;132;01m{\u001b[39;00mnode\u001b[38;5;241m.\u001b[39mget_name()\u001b[38;5;132;01m}\u001b[39;00m\u001b[38;5;124m[\u001b[39m\u001b[38;5;132;01m{\u001b[39;00mkey\u001b[38;5;132;01m}\u001b[39;00m\u001b[38;5;124m]. \u001b[39m\u001b[38;5;124m'\u001b[39m\n\u001b[1;32m    168\u001b[0m         \u001b[38;5;124mf\u001b[39m\u001b[38;5;124m\"\u001b[39m\u001b[38;5;132;01m{\u001b[39;00m\u001b[38;5;28mself\u001b[39m\u001b[38;5;241m.\u001b[39mremoved_by_str()\u001b[38;5;132;01m}\u001b[39;00m\u001b[38;5;132;01m{\u001b[39;00mestr\u001b[38;5;132;01m}\u001b[39;00m\u001b[38;5;124m. \u001b[39m\u001b[38;5;132;01m{\u001b[39;00mexc\u001b[38;5;132;01m}\u001b[39;00m\u001b[38;5;124m\"\u001b[39m\n\u001b[1;32m    169\u001b[0m     )\n\u001b[1;32m    170\u001b[0m     new_exc\u001b[38;5;241m.\u001b[39m_last_non_node_exception \u001b[38;5;241m=\u001b[39m last_non_node_exception\n\u001b[0;32m--> 171\u001b[0m     \u001b[38;5;28;01mraise\u001b[39;00m new_exc \u001b[38;5;28;01mfrom\u001b[39;00m\u001b[38;5;250m \u001b[39m\u001b[38;5;21;01mexc\u001b[39;00m\n\u001b[1;32m    173\u001b[0m \u001b[38;5;66;03m# self.check_type(casted, node, key)\u001b[39;00m\n\u001b[1;32m    174\u001b[0m \u001b[38;5;28;01mreturn\u001b[39;00m casted\n",
      "\u001b[0;31mParseError\u001b[0m: Error calling cast function \"Architecture\" for value \"{'version': 0.4, 'nodes': [{'name': 'MainMemory', 'class': 'DRAM', 'attributes': {'width': 256, 'block_size': 32, 'word_bits': 8, 'datawidth': 8}, 'required_actions': ['read', 'write']}, {'name': 'IntermediateBuffer', 'class': 'SRAM', 'attributes': {'depth': 8192, 'width': 256, 'block_size': 32, 'word_bits': 8, 'datawidth': 8}, 'required_actions': ['read', 'write']}, {'name': 'nnEngine', 'spatial': {'meshX': 4, 'meshY': 4}, 'attributes': {'depth': 16, 'width': 16, 'datawidth': 8}}, {'name': 'PE', 'spatial': {'meshX': 8, 'meshY': 8}, 'attributes': {'depth': 8, 'width': 8, 'datawidth': 8}}, {'name': 'scratchpad', 'class': 'smart_storage', 'attributes': {'depth': 128, 'datawidth': 8, 'width': 8}}, {'name': 'input_reg', 'class': 'regfile', 'attributes': {'depth': 16, 'datawidth': 8, 'width': 8}, 'constraints': {'dataspace': {'keep': ['Input', 'OutputVector1', 'OutputVector2', 'OutputVector3'], 'bypass': ['Matrix_1', 'Matrix_2', 'Matrix_3', 'Matrix_4', 'OutputVector4']}}, 'required_actions': ['read', 'write', 'compute']}, {'name': 'output_reg', 'class': 'regfile', 'attributes': {'depth': 16, 'width': 16, 'datawidth': 8}, 'constraints': {'dataspace': {'keep': ['OutputVector1', 'OutputVector2', 'OutputVector3', 'OutputVector4'], 'bypass': ['Matrix_1', 'Matrix_2', 'Matrix_3', 'Matrix_4', 'Input']}}, 'required_actions': ['read', 'write', 'compute']}, {'name': 'weights_reg', 'class': 'regfile', 'attributes': {'depth': 16, 'width': 16, 'datawidth': 8}, 'constraints': {'dataspace': {'keep': ['Matrix_1', 'Matrix_2', 'Matrix_3', 'Matrix_4'], 'bypass': ['Input', 'OutputVector1', 'OutputVector2', 'OutputVector3', 'OutputVector4']}}, 'required_actions': ['read', 'write', 'compute']}, {'name': 'MACC', 'class': 'intmac', 'attributes': {'datawidth': 8, 'width': 8, 'cycle_time': 1e-09}, 'required_actions': ['compute']}]}\" in Specification[architecture]. \n\n'Missing required key \"depth\" in StorageAttributes={\\'entries\\': REQUIRED, \\'sizeKB\\': REQUIRED, \\'reducti.... Required keys not found: depth. Found keys: width, block_size, word_bits, datawidth, has_power_gating, power_gated_at, technology, n_banks, cluster_size.'. Error calling cast function \"ArchNodes\" for value \"[{'name': 'MainMemory', 'class': 'DRAM', 'attributes': {'width': 256, 'block_size': 32, 'word_bits': 8, 'datawidth': 8}, 'required_actions': ['read', 'write']}, {'name': 'IntermediateBuffer', 'class': 'SRAM', 'attributes': {'depth': 8192, 'width': 256, 'block_size': 32, 'word_bits': 8, 'datawidth': 8}, 'required_actions': ['read', 'write']}, {'name': 'nnEngine', 'spatial': {'meshX': 4, 'meshY': 4}, 'attributes': {'depth': 16, 'width': 16, 'datawidth': 8}}, {'name': 'PE', 'spatial': {'meshX': 8, 'meshY': 8}, 'attributes': {'depth': 8, 'width': 8, 'datawidth': 8}}, {'name': 'scratchpad', 'class': 'smart_storage', 'attributes': {'depth': 128, 'datawidth': 8, 'width': 8}}, {'name': 'input_reg', 'class': 'regfile', 'attributes': {'depth': 16, 'datawidth': 8, 'width': 8}, 'constraints': {'dataspace': {'keep': ['Input', 'OutputVector1', 'OutputVector2', 'OutputVector3'], 'bypass': ['Matrix_1', 'Matrix_2', 'Matrix_3', 'Matrix_4', 'OutputVector4']}}, 'required_actions': ['read', 'write', 'compute']}, {'name': 'output_reg', 'class': 'regfile', 'attributes': {'depth': 16, 'width': 16, 'datawidth': 8}, 'constraints': {'dataspace': {'keep': ['OutputVector1', 'OutputVector2', 'OutputVector3', 'OutputVector4'], 'bypass': ['Matrix_1', 'Matrix_2', 'Matrix_3', 'Matrix_4', 'Input']}}, 'required_actions': ['read', 'write', 'compute']}, {'name': 'weights_reg', 'class': 'regfile', 'attributes': {'depth': 16, 'width': 16, 'datawidth': 8}, 'constraints': {'dataspace': {'keep': ['Matrix_1', 'Matrix_2', 'Matrix_3', 'Matrix_4'], 'bypass': ['Input', 'OutputVector1', 'OutputVector2', 'OutputVector3', 'OutputVector4']}}, 'required_actions': ['read', 'write', 'compute']}, {'name': 'MACC', 'class': 'intmac', 'attributes': {'datawidth': 8, 'width': 8, 'cycle_time': 1e-09}, 'required_actions': ['compute']}]\" in Architecture[nodes]. \n\n'Missing required key \"depth\" in StorageAttributes={\\'entries\\': REQUIRED, \\'sizeKB\\': REQUIRED, \\'reducti.... Required keys not found: depth. Found keys: width, block_size, word_bits, datawidth, has_power_gating, power_gated_at, technology, n_banks, cluster_size.'. Error calling cast function \"component_factory\" for value \"{'name': 'MainMemory', 'class': 'DRAM', 'attributes': {'width': 256, 'block_size': 32, 'word_bits': 8, 'datawidth': 8}, 'required_actions': ['read', 'write']}\" in ArchNodes[0]. \n\n'Missing required key \"depth\" in StorageAttributes={\\'entries\\': REQUIRED, \\'sizeKB\\': REQUIRED, \\'reducti.... Required keys not found: depth. Found keys: width, block_size, word_bits, datawidth, has_power_gating, power_gated_at, technology, n_banks, cluster_size.'. Error calling cast function \"StorageAttributes\" for value \"{'width': 256, 'block_size': 32, 'word_bits': 8, 'datawidth': 8}\" in Storage(MainMemory)[attributes]. \n\n'Missing required key \"depth\" in StorageAttributes={\\'entries\\': REQUIRED, \\'sizeKB\\': REQUIRED, \\'reducti.... Required keys not found: depth. Found keys: width, block_size, word_bits, datawidth, has_power_gating, power_gated_at, technology, n_banks, cluster_size.'. 'Missing required key \"depth\" in StorageAttributes={\\'entries\\': REQUIRED, \\'sizeKB\\': REQUIRED, \\'reducti.... Required keys not found: depth. Found keys: width, block_size, word_bits, datawidth, has_power_gating, power_gated_at, technology, n_banks, cluster_size.'"
     ]
    }
   ],
   "source": [
    "### with CONV files\n",
    "from util import *\n",
    "from pprint import pp\n",
    "from pytimeloop.looptree.run import run_looptree\n",
    "\n",
    "# As previously mentioned, bindings map levels specified in the mapping\n",
    "# to the hardware units specified in the architecture spec.\n",
    "bindings = {\n",
    "    0: 'MainMemory',\n",
    "    1: 'IntermediateBuffer',\n",
    "    # 2: 'LocalBuffer',\n",
    "    # 3: 'input_reg',\n",
    "    # 4: 'weight_reg',\n",
    "    # 5: 'output_reg',\n",
    "    3: 'MACC',\n",
    "    4: 'input_reg',\n",
    "    5: 'weights_reg',\n",
    "    6: 'output_reg',\n",
    "    # 7: 'PE'\n",
    "}\n",
    "\n",
    "stats = run_looptree(\n",
    "    CONFIG_DIR,\n",
    "    # ['architecture.yaml', 'two_fc.workload.yaml', 'layer-by-layer.mapping.yaml'],\n",
    "    ['architecture.yaml', 'conv_workload.yaml','conv_mapping.yaml'],\n",
    "    TMP_DIR,\n",
    "    bindings,\n",
    "    call_accelergy=True\n",
    ")"
   ]
  },
  {
   "cell_type": "code",
   "execution_count": null,
   "id": "a68d8dfd-73be-41d7-a0aa-0bb0e9c91b4a",
   "metadata": {},
   "outputs": [],
   "source": [
    "print('Latency:', stats.latency)\n",
    "print('Energy:')\n",
    "pp(stats.energy)"
   ]
  },
  {
   "cell_type": "markdown",
   "id": "61cbe63c-494f-48fc-b341-317ebb2123d0",
   "metadata": {},
   "source": [
    "Now, we compare these results with the fused mapping:"
   ]
  },
  {
   "cell_type": "code",
   "execution_count": 1,
   "id": "6e339a0d-e596-4145-aa2a-4a77faf7aebf",
   "metadata": {},
   "outputs": [
    {
     "ename": "NameError",
     "evalue": "name 'CONFIG_DIR' is not defined",
     "output_type": "error",
     "traceback": [
      "\u001b[0;31m---------------------------------------------------------------------------\u001b[0m",
      "\u001b[0;31mNameError\u001b[0m                                 Traceback (most recent call last)",
      "Cell \u001b[0;32mIn[1], line 12\u001b[0m\n\u001b[1;32m      3\u001b[0m \u001b[38;5;66;03m# As previously mentioned, bindings map levels specified in the mapping\u001b[39;00m\n\u001b[1;32m      4\u001b[0m \u001b[38;5;66;03m# to the hardware units specified in the architecture spec.\u001b[39;00m\n\u001b[1;32m      5\u001b[0m bindings \u001b[38;5;241m=\u001b[39m {\n\u001b[1;32m      6\u001b[0m     \u001b[38;5;241m0\u001b[39m: \u001b[38;5;124m'\u001b[39m\u001b[38;5;124mMainMemory\u001b[39m\u001b[38;5;124m'\u001b[39m,\n\u001b[1;32m      7\u001b[0m     \u001b[38;5;241m1\u001b[39m: \u001b[38;5;124m'\u001b[39m\u001b[38;5;124mGlobalBuffer\u001b[39m\u001b[38;5;124m'\u001b[39m,\n\u001b[1;32m      8\u001b[0m     \u001b[38;5;241m2\u001b[39m: \u001b[38;5;124m'\u001b[39m\u001b[38;5;124mMACC\u001b[39m\u001b[38;5;124m'\u001b[39m\n\u001b[1;32m      9\u001b[0m }\n\u001b[1;32m     11\u001b[0m stats \u001b[38;5;241m=\u001b[39m run_looptree(\n\u001b[0;32m---> 12\u001b[0m     \u001b[43mCONFIG_DIR\u001b[49m,\n\u001b[1;32m     13\u001b[0m     [\u001b[38;5;124m'\u001b[39m\u001b[38;5;124marchitecture.yaml\u001b[39m\u001b[38;5;124m'\u001b[39m, \u001b[38;5;124m'\u001b[39m\u001b[38;5;124mtwo_fc.workload.yaml\u001b[39m\u001b[38;5;124m'\u001b[39m, \u001b[38;5;124m'\u001b[39m\u001b[38;5;124mfused.mapping.yaml\u001b[39m\u001b[38;5;124m'\u001b[39m],\n\u001b[1;32m     14\u001b[0m     TMP_DIR,\n\u001b[1;32m     15\u001b[0m     bindings,\n\u001b[1;32m     16\u001b[0m     call_accelergy\u001b[38;5;241m=\u001b[39m\u001b[38;5;28;01mTrue\u001b[39;00m\n\u001b[1;32m     17\u001b[0m )\n\u001b[1;32m     18\u001b[0m \u001b[38;5;28mprint\u001b[39m(\u001b[38;5;124m'\u001b[39m\u001b[38;5;124mLatency:\u001b[39m\u001b[38;5;124m'\u001b[39m, stats\u001b[38;5;241m.\u001b[39mlatency)\n\u001b[1;32m     19\u001b[0m \u001b[38;5;28mprint\u001b[39m(\u001b[38;5;124m'\u001b[39m\u001b[38;5;124mEnergy:\u001b[39m\u001b[38;5;124m'\u001b[39m)\n",
      "\u001b[0;31mNameError\u001b[0m: name 'CONFIG_DIR' is not defined"
     ]
    }
   ],
   "source": [
    "from pytimeloop.looptree.run import run_looptree\n",
    "\n",
    "# As previously mentioned, bindings map levels specified in the mapping\n",
    "# to the hardware units specified in the architecture spec.\n",
    "bindings = {\n",
    "    0: 'MainMemory',\n",
    "    1: 'GlobalBuffer',\n",
    "    2: 'MACC'\n",
    "}\n",
    "\n",
    "stats = run_looptree(\n",
    "    CONFIG_DIR,\n",
    "    ['architecture.yaml', 'two_fc.workload.yaml', 'fused.mapping.yaml'],\n",
    "    TMP_DIR,\n",
    "    bindings,\n",
    "    call_accelergy=True\n",
    ")\n",
    "print('Latency:', stats.latency)\n",
    "print('Energy:')\n",
    "pp(stats.energy)"
   ]
  },
  {
   "cell_type": "markdown",
   "id": "e55e41bc-8a1e-4f57-a95f-c8bdd275731d",
   "metadata": {},
   "source": [
    "As we can see, the energy consumption due to MainMemory reads and writes have decreased significantly from fusion.\n",
    "\n",
    "Here, we have not modeled the impact of limited MainMemory bandwidth; thus, because the MACC unit utilization is the same (100%) in both cases, the latency is the same. However, if the layer-by-layer latency is limited by MainMemory bandwidth, fusion will also decrease latency."
   ]
  },
  {
   "cell_type": "code",
   "execution_count": 19,
   "id": "574293da-bca2-4383-820a-438468a50572",
   "metadata": {},
   "outputs": [
    {
     "name": "stdout",
     "output_type": "stream",
     "text": [
      "Latency: 528384\n",
      "Energy:\n",
      "{('MainMemory', 'read'): 50331648.0,\n",
      " ('GlobalBuffer', 'read'): 382769037.31200004,\n",
      " ('GlobalBuffer', 'write'): 123521941.50400001,\n",
      " ('MainMemory', 'write'): 16777216.0,\n",
      " ('MACC', 'compute'): 886046.72}\n"
     ]
    }
   ],
   "source": [
    "from pytimeloop.looptree.run import run_looptree\n",
    "\n",
    "# As previously mentioned, bindings map levels specified in the mapping\n",
    "# to the hardware units specified in the architecture spec.\n",
    "bindings = {\n",
    "    0: 'MainMemory',\n",
    "    1: 'GlobalBuffer',\n",
    "    2: 'MACC'\n",
    "}\n",
    "\n",
    "stats = run_looptree(\n",
    "    CONFIG_DIR,\n",
    "    ['architecture.yaml', 'two_fc.workload.yaml', 'fused-pipeline.mapping.yaml'],\n",
    "    TMP_DIR,\n",
    "    bindings,\n",
    "    call_accelergy=True\n",
    ")\n",
    "print('Latency:', stats.latency)\n",
    "print('Energy:')\n",
    "pp(stats.energy)"
   ]
  }
 ],
 "metadata": {
  "kernelspec": {
   "display_name": "Python 3 (ipykernel)",
   "language": "python",
   "name": "python3"
  },
  "language_info": {
   "codemirror_mode": {
    "name": "ipython",
    "version": 3
   },
   "file_extension": ".py",
   "mimetype": "text/x-python",
   "name": "python",
   "nbconvert_exporter": "python",
   "pygments_lexer": "ipython3",
   "version": "3.10.12"
  }
 },
 "nbformat": 4,
 "nbformat_minor": 5
}
